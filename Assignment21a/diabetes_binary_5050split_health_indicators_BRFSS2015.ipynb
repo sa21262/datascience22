{
  "nbformat": 4,
  "nbformat_minor": 0,
  "metadata": {
    "colab": {
      "name": "Untitled6.ipynb",
      "provenance": [],
      "authorship_tag": "ABX9TyNlS1OgvMJp2Bpkyw/hHt6x",
      "include_colab_link": true
    },
    "kernelspec": {
      "name": "python3",
      "display_name": "Python 3"
    },
    "language_info": {
      "name": "python"
    }
  },
  "cells": [
    {
      "cell_type": "markdown",
      "metadata": {
        "id": "view-in-github",
        "colab_type": "text"
      },
      "source": [
        "<a href=\"https://colab.research.google.com/github/sa21262/datascience22/blob/main/Assignment21a/diabetes_binary_5050split_health_indicators_BRFSS2015.ipynb\" target=\"_parent\"><img src=\"https://colab.research.google.com/assets/colab-badge.svg\" alt=\"Open In Colab\"/></a>"
      ]
    },
    {
      "cell_type": "code",
      "execution_count": null,
      "metadata": {
        "id": "jUEicNytmBDH"
      },
      "outputs": [],
      "source": [
        "%matplotlib inline\n",
        "import matplotlib\n",
        "import numpy as np\n",
        "import matplotlib.pyplot as plt\n",
        "import pandas as pd\n",
        "import seaborn as sns\n",
        "\n",
        "\n",
        "import itertools\n",
        "\n",
        "from sklearn.model_selection import train_test_split, StratifiedShuffleSplit, cross_val_score\n",
        "\n",
        "from sklearn.preprocessing import LabelEncoder, StandardScaler, OneHotEncoder, OrdinalEncoder\n",
        "from sklearn.compose import ColumnTransformer\n",
        "from sklearn.base import BaseEstimator, TransformerMixin\n",
        "from sklearn.pipeline import Pipeline\n",
        "\n",
        "from sklearn.tree import DecisionTreeRegressor\n",
        "from sklearn.ensemble import RandomForestRegressor, GradientBoostingRegressor, RandomForestClassifier, ExtraTreesClassifier\n",
        "from sklearn.linear_model import SGDRegressor, BayesianRidge\n",
        "from sklearn.metrics import mean_squared_error as mse\n",
        "from sklearn.metrics import mean_absolute_error as mae\n",
        "from sklearn.metrics import accuracy_score as acc\n",
        "from sklearn.metrics import make_scorer, confusion_matrix\n",
        "from sklearn.dummy import DummyRegressor, DummyClassifier\n",
        "from sklearn import metrics\n",
        "from sklearn import datasets\n",
        "import sklearn\n",
        "from collections import Counter\n",
        "from imblearn.datasets import make_imbalance\n",
        "import pylab as pl"
      ]
    },
    {
      "cell_type": "code",
      "source": [
        "df = pd.read_csv(\"https://raw.githubusercontent.com/sa21262/datascience22/main/Assignment21a/diabetes_binary_5050split_health_indicators_BRFSS2015.csv\")\n",
        "df"
      ],
      "metadata": {
        "colab": {
          "base_uri": "https://localhost:8080/",
          "height": 488
        },
        "id": "SuQq91LVszxr",
        "outputId": "5d60248d-0a15-4f8c-f321-28b1e47658ba"
      },
      "execution_count": null,
      "outputs": [
        {
          "output_type": "execute_result",
          "data": {
            "text/html": [
              "\n",
              "  <div id=\"df-248813a6-7be0-4bcf-80dc-4154a5330186\">\n",
              "    <div class=\"colab-df-container\">\n",
              "      <div>\n",
              "<style scoped>\n",
              "    .dataframe tbody tr th:only-of-type {\n",
              "        vertical-align: middle;\n",
              "    }\n",
              "\n",
              "    .dataframe tbody tr th {\n",
              "        vertical-align: top;\n",
              "    }\n",
              "\n",
              "    .dataframe thead th {\n",
              "        text-align: right;\n",
              "    }\n",
              "</style>\n",
              "<table border=\"1\" class=\"dataframe\">\n",
              "  <thead>\n",
              "    <tr style=\"text-align: right;\">\n",
              "      <th></th>\n",
              "      <th>Diabetes_binary</th>\n",
              "      <th>HighBP</th>\n",
              "      <th>HighChol</th>\n",
              "      <th>CholCheck</th>\n",
              "      <th>BMI</th>\n",
              "      <th>Smoker</th>\n",
              "      <th>Stroke</th>\n",
              "      <th>HeartDiseaseorAttack</th>\n",
              "      <th>PhysActivity</th>\n",
              "      <th>Fruits</th>\n",
              "      <th>Veggies</th>\n",
              "      <th>HvyAlcoholConsump</th>\n",
              "      <th>AnyHealthcare</th>\n",
              "      <th>NoDocbcCost</th>\n",
              "      <th>GenHlth</th>\n",
              "      <th>MentHlth</th>\n",
              "      <th>PhysHlth</th>\n",
              "      <th>DiffWalk</th>\n",
              "      <th>Sex</th>\n",
              "      <th>Age</th>\n",
              "      <th>Education</th>\n",
              "      <th>Income</th>\n",
              "    </tr>\n",
              "  </thead>\n",
              "  <tbody>\n",
              "    <tr>\n",
              "      <th>0</th>\n",
              "      <td>0.0</td>\n",
              "      <td>1.0</td>\n",
              "      <td>0.0</td>\n",
              "      <td>1.0</td>\n",
              "      <td>26.0</td>\n",
              "      <td>0.0</td>\n",
              "      <td>0.0</td>\n",
              "      <td>0.0</td>\n",
              "      <td>1.0</td>\n",
              "      <td>0.0</td>\n",
              "      <td>1.0</td>\n",
              "      <td>0.0</td>\n",
              "      <td>1.0</td>\n",
              "      <td>0.0</td>\n",
              "      <td>3.0</td>\n",
              "      <td>5.0</td>\n",
              "      <td>30.0</td>\n",
              "      <td>0.0</td>\n",
              "      <td>1.0</td>\n",
              "      <td>4.0</td>\n",
              "      <td>6.0</td>\n",
              "      <td>8.0</td>\n",
              "    </tr>\n",
              "    <tr>\n",
              "      <th>1</th>\n",
              "      <td>0.0</td>\n",
              "      <td>1.0</td>\n",
              "      <td>1.0</td>\n",
              "      <td>1.0</td>\n",
              "      <td>26.0</td>\n",
              "      <td>1.0</td>\n",
              "      <td>1.0</td>\n",
              "      <td>0.0</td>\n",
              "      <td>0.0</td>\n",
              "      <td>1.0</td>\n",
              "      <td>0.0</td>\n",
              "      <td>0.0</td>\n",
              "      <td>1.0</td>\n",
              "      <td>0.0</td>\n",
              "      <td>3.0</td>\n",
              "      <td>0.0</td>\n",
              "      <td>0.0</td>\n",
              "      <td>0.0</td>\n",
              "      <td>1.0</td>\n",
              "      <td>12.0</td>\n",
              "      <td>6.0</td>\n",
              "      <td>8.0</td>\n",
              "    </tr>\n",
              "    <tr>\n",
              "      <th>2</th>\n",
              "      <td>0.0</td>\n",
              "      <td>0.0</td>\n",
              "      <td>0.0</td>\n",
              "      <td>1.0</td>\n",
              "      <td>26.0</td>\n",
              "      <td>0.0</td>\n",
              "      <td>0.0</td>\n",
              "      <td>0.0</td>\n",
              "      <td>1.0</td>\n",
              "      <td>1.0</td>\n",
              "      <td>1.0</td>\n",
              "      <td>0.0</td>\n",
              "      <td>1.0</td>\n",
              "      <td>0.0</td>\n",
              "      <td>1.0</td>\n",
              "      <td>0.0</td>\n",
              "      <td>10.0</td>\n",
              "      <td>0.0</td>\n",
              "      <td>1.0</td>\n",
              "      <td>13.0</td>\n",
              "      <td>6.0</td>\n",
              "      <td>8.0</td>\n",
              "    </tr>\n",
              "    <tr>\n",
              "      <th>3</th>\n",
              "      <td>0.0</td>\n",
              "      <td>1.0</td>\n",
              "      <td>1.0</td>\n",
              "      <td>1.0</td>\n",
              "      <td>28.0</td>\n",
              "      <td>1.0</td>\n",
              "      <td>0.0</td>\n",
              "      <td>0.0</td>\n",
              "      <td>1.0</td>\n",
              "      <td>1.0</td>\n",
              "      <td>1.0</td>\n",
              "      <td>0.0</td>\n",
              "      <td>1.0</td>\n",
              "      <td>0.0</td>\n",
              "      <td>3.0</td>\n",
              "      <td>0.0</td>\n",
              "      <td>3.0</td>\n",
              "      <td>0.0</td>\n",
              "      <td>1.0</td>\n",
              "      <td>11.0</td>\n",
              "      <td>6.0</td>\n",
              "      <td>8.0</td>\n",
              "    </tr>\n",
              "    <tr>\n",
              "      <th>4</th>\n",
              "      <td>0.0</td>\n",
              "      <td>0.0</td>\n",
              "      <td>0.0</td>\n",
              "      <td>1.0</td>\n",
              "      <td>29.0</td>\n",
              "      <td>1.0</td>\n",
              "      <td>0.0</td>\n",
              "      <td>0.0</td>\n",
              "      <td>1.0</td>\n",
              "      <td>1.0</td>\n",
              "      <td>1.0</td>\n",
              "      <td>0.0</td>\n",
              "      <td>1.0</td>\n",
              "      <td>0.0</td>\n",
              "      <td>2.0</td>\n",
              "      <td>0.0</td>\n",
              "      <td>0.0</td>\n",
              "      <td>0.0</td>\n",
              "      <td>0.0</td>\n",
              "      <td>8.0</td>\n",
              "      <td>5.0</td>\n",
              "      <td>8.0</td>\n",
              "    </tr>\n",
              "    <tr>\n",
              "      <th>...</th>\n",
              "      <td>...</td>\n",
              "      <td>...</td>\n",
              "      <td>...</td>\n",
              "      <td>...</td>\n",
              "      <td>...</td>\n",
              "      <td>...</td>\n",
              "      <td>...</td>\n",
              "      <td>...</td>\n",
              "      <td>...</td>\n",
              "      <td>...</td>\n",
              "      <td>...</td>\n",
              "      <td>...</td>\n",
              "      <td>...</td>\n",
              "      <td>...</td>\n",
              "      <td>...</td>\n",
              "      <td>...</td>\n",
              "      <td>...</td>\n",
              "      <td>...</td>\n",
              "      <td>...</td>\n",
              "      <td>...</td>\n",
              "      <td>...</td>\n",
              "      <td>...</td>\n",
              "    </tr>\n",
              "    <tr>\n",
              "      <th>70687</th>\n",
              "      <td>1.0</td>\n",
              "      <td>0.0</td>\n",
              "      <td>1.0</td>\n",
              "      <td>1.0</td>\n",
              "      <td>37.0</td>\n",
              "      <td>0.0</td>\n",
              "      <td>0.0</td>\n",
              "      <td>0.0</td>\n",
              "      <td>0.0</td>\n",
              "      <td>0.0</td>\n",
              "      <td>1.0</td>\n",
              "      <td>0.0</td>\n",
              "      <td>1.0</td>\n",
              "      <td>0.0</td>\n",
              "      <td>4.0</td>\n",
              "      <td>0.0</td>\n",
              "      <td>0.0</td>\n",
              "      <td>0.0</td>\n",
              "      <td>0.0</td>\n",
              "      <td>6.0</td>\n",
              "      <td>4.0</td>\n",
              "      <td>1.0</td>\n",
              "    </tr>\n",
              "    <tr>\n",
              "      <th>70688</th>\n",
              "      <td>1.0</td>\n",
              "      <td>0.0</td>\n",
              "      <td>1.0</td>\n",
              "      <td>1.0</td>\n",
              "      <td>29.0</td>\n",
              "      <td>1.0</td>\n",
              "      <td>0.0</td>\n",
              "      <td>1.0</td>\n",
              "      <td>0.0</td>\n",
              "      <td>1.0</td>\n",
              "      <td>1.0</td>\n",
              "      <td>0.0</td>\n",
              "      <td>1.0</td>\n",
              "      <td>0.0</td>\n",
              "      <td>2.0</td>\n",
              "      <td>0.0</td>\n",
              "      <td>0.0</td>\n",
              "      <td>1.0</td>\n",
              "      <td>1.0</td>\n",
              "      <td>10.0</td>\n",
              "      <td>3.0</td>\n",
              "      <td>6.0</td>\n",
              "    </tr>\n",
              "    <tr>\n",
              "      <th>70689</th>\n",
              "      <td>1.0</td>\n",
              "      <td>1.0</td>\n",
              "      <td>1.0</td>\n",
              "      <td>1.0</td>\n",
              "      <td>25.0</td>\n",
              "      <td>0.0</td>\n",
              "      <td>0.0</td>\n",
              "      <td>1.0</td>\n",
              "      <td>0.0</td>\n",
              "      <td>1.0</td>\n",
              "      <td>0.0</td>\n",
              "      <td>0.0</td>\n",
              "      <td>1.0</td>\n",
              "      <td>0.0</td>\n",
              "      <td>5.0</td>\n",
              "      <td>15.0</td>\n",
              "      <td>0.0</td>\n",
              "      <td>1.0</td>\n",
              "      <td>0.0</td>\n",
              "      <td>13.0</td>\n",
              "      <td>6.0</td>\n",
              "      <td>4.0</td>\n",
              "    </tr>\n",
              "    <tr>\n",
              "      <th>70690</th>\n",
              "      <td>1.0</td>\n",
              "      <td>1.0</td>\n",
              "      <td>1.0</td>\n",
              "      <td>1.0</td>\n",
              "      <td>18.0</td>\n",
              "      <td>0.0</td>\n",
              "      <td>0.0</td>\n",
              "      <td>0.0</td>\n",
              "      <td>0.0</td>\n",
              "      <td>0.0</td>\n",
              "      <td>0.0</td>\n",
              "      <td>0.0</td>\n",
              "      <td>1.0</td>\n",
              "      <td>0.0</td>\n",
              "      <td>4.0</td>\n",
              "      <td>0.0</td>\n",
              "      <td>0.0</td>\n",
              "      <td>1.0</td>\n",
              "      <td>0.0</td>\n",
              "      <td>11.0</td>\n",
              "      <td>2.0</td>\n",
              "      <td>4.0</td>\n",
              "    </tr>\n",
              "    <tr>\n",
              "      <th>70691</th>\n",
              "      <td>1.0</td>\n",
              "      <td>1.0</td>\n",
              "      <td>1.0</td>\n",
              "      <td>1.0</td>\n",
              "      <td>25.0</td>\n",
              "      <td>0.0</td>\n",
              "      <td>0.0</td>\n",
              "      <td>1.0</td>\n",
              "      <td>1.0</td>\n",
              "      <td>1.0</td>\n",
              "      <td>0.0</td>\n",
              "      <td>0.0</td>\n",
              "      <td>1.0</td>\n",
              "      <td>0.0</td>\n",
              "      <td>2.0</td>\n",
              "      <td>0.0</td>\n",
              "      <td>0.0</td>\n",
              "      <td>0.0</td>\n",
              "      <td>0.0</td>\n",
              "      <td>9.0</td>\n",
              "      <td>6.0</td>\n",
              "      <td>2.0</td>\n",
              "    </tr>\n",
              "  </tbody>\n",
              "</table>\n",
              "<p>70692 rows × 22 columns</p>\n",
              "</div>\n",
              "      <button class=\"colab-df-convert\" onclick=\"convertToInteractive('df-248813a6-7be0-4bcf-80dc-4154a5330186')\"\n",
              "              title=\"Convert this dataframe to an interactive table.\"\n",
              "              style=\"display:none;\">\n",
              "        \n",
              "  <svg xmlns=\"http://www.w3.org/2000/svg\" height=\"24px\"viewBox=\"0 0 24 24\"\n",
              "       width=\"24px\">\n",
              "    <path d=\"M0 0h24v24H0V0z\" fill=\"none\"/>\n",
              "    <path d=\"M18.56 5.44l.94 2.06.94-2.06 2.06-.94-2.06-.94-.94-2.06-.94 2.06-2.06.94zm-11 1L8.5 8.5l.94-2.06 2.06-.94-2.06-.94L8.5 2.5l-.94 2.06-2.06.94zm10 10l.94 2.06.94-2.06 2.06-.94-2.06-.94-.94-2.06-.94 2.06-2.06.94z\"/><path d=\"M17.41 7.96l-1.37-1.37c-.4-.4-.92-.59-1.43-.59-.52 0-1.04.2-1.43.59L10.3 9.45l-7.72 7.72c-.78.78-.78 2.05 0 2.83L4 21.41c.39.39.9.59 1.41.59.51 0 1.02-.2 1.41-.59l7.78-7.78 2.81-2.81c.8-.78.8-2.07 0-2.86zM5.41 20L4 18.59l7.72-7.72 1.47 1.35L5.41 20z\"/>\n",
              "  </svg>\n",
              "      </button>\n",
              "      \n",
              "  <style>\n",
              "    .colab-df-container {\n",
              "      display:flex;\n",
              "      flex-wrap:wrap;\n",
              "      gap: 12px;\n",
              "    }\n",
              "\n",
              "    .colab-df-convert {\n",
              "      background-color: #E8F0FE;\n",
              "      border: none;\n",
              "      border-radius: 50%;\n",
              "      cursor: pointer;\n",
              "      display: none;\n",
              "      fill: #1967D2;\n",
              "      height: 32px;\n",
              "      padding: 0 0 0 0;\n",
              "      width: 32px;\n",
              "    }\n",
              "\n",
              "    .colab-df-convert:hover {\n",
              "      background-color: #E2EBFA;\n",
              "      box-shadow: 0px 1px 2px rgba(60, 64, 67, 0.3), 0px 1px 3px 1px rgba(60, 64, 67, 0.15);\n",
              "      fill: #174EA6;\n",
              "    }\n",
              "\n",
              "    [theme=dark] .colab-df-convert {\n",
              "      background-color: #3B4455;\n",
              "      fill: #D2E3FC;\n",
              "    }\n",
              "\n",
              "    [theme=dark] .colab-df-convert:hover {\n",
              "      background-color: #434B5C;\n",
              "      box-shadow: 0px 1px 3px 1px rgba(0, 0, 0, 0.15);\n",
              "      filter: drop-shadow(0px 1px 2px rgba(0, 0, 0, 0.3));\n",
              "      fill: #FFFFFF;\n",
              "    }\n",
              "  </style>\n",
              "\n",
              "      <script>\n",
              "        const buttonEl =\n",
              "          document.querySelector('#df-248813a6-7be0-4bcf-80dc-4154a5330186 button.colab-df-convert');\n",
              "        buttonEl.style.display =\n",
              "          google.colab.kernel.accessAllowed ? 'block' : 'none';\n",
              "\n",
              "        async function convertToInteractive(key) {\n",
              "          const element = document.querySelector('#df-248813a6-7be0-4bcf-80dc-4154a5330186');\n",
              "          const dataTable =\n",
              "            await google.colab.kernel.invokeFunction('convertToInteractive',\n",
              "                                                     [key], {});\n",
              "          if (!dataTable) return;\n",
              "\n",
              "          const docLinkHtml = 'Like what you see? Visit the ' +\n",
              "            '<a target=\"_blank\" href=https://colab.research.google.com/notebooks/data_table.ipynb>data table notebook</a>'\n",
              "            + ' to learn more about interactive tables.';\n",
              "          element.innerHTML = '';\n",
              "          dataTable['output_type'] = 'display_data';\n",
              "          await google.colab.output.renderOutput(dataTable, element);\n",
              "          const docLink = document.createElement('div');\n",
              "          docLink.innerHTML = docLinkHtml;\n",
              "          element.appendChild(docLink);\n",
              "        }\n",
              "      </script>\n",
              "    </div>\n",
              "  </div>\n",
              "  "
            ],
            "text/plain": [
              "       Diabetes_binary  HighBP  HighChol  ...   Age  Education  Income\n",
              "0                  0.0     1.0       0.0  ...   4.0        6.0     8.0\n",
              "1                  0.0     1.0       1.0  ...  12.0        6.0     8.0\n",
              "2                  0.0     0.0       0.0  ...  13.0        6.0     8.0\n",
              "3                  0.0     1.0       1.0  ...  11.0        6.0     8.0\n",
              "4                  0.0     0.0       0.0  ...   8.0        5.0     8.0\n",
              "...                ...     ...       ...  ...   ...        ...     ...\n",
              "70687              1.0     0.0       1.0  ...   6.0        4.0     1.0\n",
              "70688              1.0     0.0       1.0  ...  10.0        3.0     6.0\n",
              "70689              1.0     1.0       1.0  ...  13.0        6.0     4.0\n",
              "70690              1.0     1.0       1.0  ...  11.0        2.0     4.0\n",
              "70691              1.0     1.0       1.0  ...   9.0        6.0     2.0\n",
              "\n",
              "[70692 rows x 22 columns]"
            ]
          },
          "metadata": {},
          "execution_count": 34
        }
      ]
    },
    {
      "cell_type": "code",
      "source": [
        "df.info() # information about the data "
      ],
      "metadata": {
        "colab": {
          "base_uri": "https://localhost:8080/"
        },
        "id": "18QybYh6Oqps",
        "outputId": "53746116-002f-4f1b-a750-61562ec0417b"
      },
      "execution_count": null,
      "outputs": [
        {
          "output_type": "stream",
          "name": "stdout",
          "text": [
            "<class 'pandas.core.frame.DataFrame'>\n",
            "RangeIndex: 70692 entries, 0 to 70691\n",
            "Data columns (total 22 columns):\n",
            " #   Column                Non-Null Count  Dtype  \n",
            "---  ------                --------------  -----  \n",
            " 0   Diabetes_binary       70692 non-null  float64\n",
            " 1   HighBP                70692 non-null  float64\n",
            " 2   HighChol              70692 non-null  float64\n",
            " 3   CholCheck             70692 non-null  float64\n",
            " 4   BMI                   70692 non-null  float64\n",
            " 5   Smoker                70692 non-null  float64\n",
            " 6   Stroke                70692 non-null  float64\n",
            " 7   HeartDiseaseorAttack  70692 non-null  float64\n",
            " 8   PhysActivity          70692 non-null  float64\n",
            " 9   Fruits                70692 non-null  float64\n",
            " 10  Veggies               70692 non-null  float64\n",
            " 11  HvyAlcoholConsump     70692 non-null  float64\n",
            " 12  AnyHealthcare         70692 non-null  float64\n",
            " 13  NoDocbcCost           70692 non-null  float64\n",
            " 14  GenHlth               70692 non-null  float64\n",
            " 15  MentHlth              70692 non-null  float64\n",
            " 16  PhysHlth              70692 non-null  float64\n",
            " 17  DiffWalk              70692 non-null  float64\n",
            " 18  Sex                   70692 non-null  float64\n",
            " 19  Age                   70692 non-null  float64\n",
            " 20  Education             70692 non-null  float64\n",
            " 21  Income                70692 non-null  float64\n",
            "dtypes: float64(22)\n",
            "memory usage: 11.9 MB\n"
          ]
        }
      ]
    },
    {
      "cell_type": "code",
      "source": [
        "print(\"Number of rows before dropping NaNs: %d\" % len(df)) #dropping NaN values \n",
        "                                                        \n",
        "df = df.dropna()\n",
        "print(\"Number of rows after dropping NaNs: %d\" % len(df)) #the results show that no NaN Values are found"
      ],
      "metadata": {
        "colab": {
          "base_uri": "https://localhost:8080/"
        },
        "id": "Er9IZlPuOyO8",
        "outputId": "25c6f486-ed88-43a3-ee79-7a51d4b58819"
      },
      "execution_count": null,
      "outputs": [
        {
          "output_type": "stream",
          "name": "stdout",
          "text": [
            "Number of rows before dropping NaNs: 70692\n",
            "Number of rows after dropping NaNs: 70692\n"
          ]
        }
      ]
    },
    {
      "cell_type": "code",
      "source": [
        "df['Diabetes_binary'].value_counts() #balanced dataset"
      ],
      "metadata": {
        "id": "UVZvPMFiuIhj",
        "outputId": "e5a474a8-3026-4a64-ef68-e9fd66bb8826",
        "colab": {
          "base_uri": "https://localhost:8080/"
        }
      },
      "execution_count": null,
      "outputs": [
        {
          "output_type": "execute_result",
          "data": {
            "text/plain": [
              "0.0    35346\n",
              "1.0    35346\n",
              "Name: Diabetes_binary, dtype: int64"
            ]
          },
          "metadata": {},
          "execution_count": 37
        }
      ]
    },
    {
      "cell_type": "code",
      "source": [
        "histogram1=df['Diabetes_binary'].hist() #balanced target variable\n",
        "\n",
        "fig = histogram1.get_figure()\n",
        "\n",
        "pl.title(\"balanced Dataset\")\n",
        "pl.xlabel(\"values of label Diabetes_binary\")\n",
        "pl.ylabel(\"count\")\n",
        "\n",
        "fig.savefig('balanced 3.pdf')"
      ],
      "metadata": {
        "id": "DLIJagUtuerj",
        "outputId": "653df1c9-5fb8-4f81-948c-debe483ab51b",
        "colab": {
          "base_uri": "https://localhost:8080/",
          "height": 296
        }
      },
      "execution_count": null,
      "outputs": [
        {
          "output_type": "display_data",
          "data": {
            "image/png": "[encoded data removed]",
            "text/plain": [
              "<Figure size 432x288 with 1 Axes>"
            ]
          },
          "metadata": {
            "needs_background": "light"
          }
        }
      ]
    },
    {
      "cell_type": "code",
      "source": [
        "y=df['Diabetes_binary'].copy()\n",
        "x=df.drop(['Diabetes_binary'],axis=1)\n",
        "print(f'Distribution before imbalancing: {Counter(y)}')\n",
        "\n",
        "print ('65% Imbalance \\n' ) # number of 1's are 65% of the total lenght of column class \n",
        "X1, y1 = make_imbalance(x, y,\n",
        "                              sampling_strategy={0: 19033, 1: 35346},\n",
        "                              random_state=42)\n",
        "print(f'Distribution after imbalancing: {Counter(y1)}')\n",
        "\n",
        "print ('total number of rows now =', len(y1))"
      ],
      "metadata": {
        "id": "d8XKVg0Ou9_6",
        "outputId": "0c44b0d6-aada-4e96-bd76-fddd85491fe0",
        "colab": {
          "base_uri": "https://localhost:8080/"
        }
      },
      "execution_count": null,
      "outputs": [
        {
          "output_type": "stream",
          "name": "stdout",
          "text": [
            "Distribution before imbalancing: Counter({0.0: 35346, 1.0: 35346})\n",
            "65% Imbalance \n",
            "\n",
            "Distribution after imbalancing: Counter({1.0: 35346, 0.0: 19033})\n",
            "total number of rows now = 54379\n"
          ]
        }
      ]
    },
    {
      "cell_type": "code",
      "source": [
        "histogram2=y1.hist() # 65% are 1's\n",
        "\n",
        "fig = histogram2.get_figure()\n",
        "\n",
        "pl.title(\"65% Imbalanced Dataset\")\n",
        "pl.xlabel(\"values of label Diabetes_binary\")\n",
        "pl.ylabel(\"count\")\n",
        "\n",
        "fig.savefig('Imbalanced3 65 perc.pdf')"
      ],
      "metadata": {
        "id": "NWAe6LUbwY-z",
        "outputId": "1aef6742-ac85-45c5-a628-ca48e53bb538",
        "colab": {
          "base_uri": "https://localhost:8080/",
          "height": 296
        }
      },
      "execution_count": null,
      "outputs": [
        {
          "output_type": "display_data",
          "data": {
            "image/png": "[encoded data removed]",
            "text/plain": [
              "<Figure size 432x288 with 1 Axes>"
            ]
          },
          "metadata": {
            "needs_background": "light"
          }
        }
      ]
    },
    {
      "cell_type": "code",
      "source": [
        "print(f'Distribution before imbalancing: {Counter(y)}')\n",
        "print ('75% Imbalance \\n' ) # number of 1's are 75% of the total lenght of column class \n",
        "X2, y2 = make_imbalance(x, y,\n",
        "                              sampling_strategy={0: 11782, 1: 35346},\n",
        "                              random_state=42)\n",
        "print(f'Distribution after imbalancing: {Counter(y2)}')\n",
        "\n",
        "print ('total number of rows now =', len(y2))"
      ],
      "metadata": {
        "id": "6D7md4z3wyEC",
        "outputId": "c613cde2-9ea4-4e5d-96c9-cf59d3f6a1ca",
        "colab": {
          "base_uri": "https://localhost:8080/"
        }
      },
      "execution_count": null,
      "outputs": [
        {
          "output_type": "stream",
          "name": "stdout",
          "text": [
            "Distribution before imbalancing: Counter({0.0: 35346, 1.0: 35346})\n",
            "75% Imbalance \n",
            "\n",
            "Distribution after imbalancing: Counter({1.0: 35346, 0.0: 11782})\n",
            "total number of rows now = 47128\n"
          ]
        }
      ]
    },
    {
      "cell_type": "code",
      "source": [
        "histogram3=y2.hist() # 75% are 1's\n",
        "\n",
        "fig = histogram3.get_figure()\n",
        "\n",
        "pl.title(\"75% Imbalanced Dataset\")\n",
        "pl.xlabel(\"values of label Diabetes_binary\")\n",
        "pl.ylabel(\"count\")\n",
        "\n",
        "fig.savefig('Imbalanced3 75 perc.pdf')"
      ],
      "metadata": {
        "id": "A923a9dqxM0b",
        "outputId": "548886aa-2861-45d8-ab83-8c5b0e1a49a5",
        "colab": {
          "base_uri": "https://localhost:8080/",
          "height": 296
        }
      },
      "execution_count": null,
      "outputs": [
        {
          "output_type": "display_data",
          "data": {
            "image/png": "[encoded data removed]",
            "text/plain": [
              "<Figure size 432x288 with 1 Axes>"
            ]
          },
          "metadata": {
            "needs_background": "light"
          }
        }
      ]
    },
    {
      "cell_type": "code",
      "source": [
        "print(f'Distribution before imbalancing: {Counter(y)}')\n",
        "print ('90% Imbalance \\n' ) # number of 1's are 90% of the total lenght of column class \n",
        "X3, y3 = make_imbalance(x, y,\n",
        "                              sampling_strategy={0: 3928, 1: 35346},\n",
        "                              random_state=42)\n",
        "print(f'Distribution after imbalancing: {Counter(y3)}')\n",
        "\n",
        "print ('total number of rows now =', len(y3))"
      ],
      "metadata": {
        "id": "r2nm6s19xckz",
        "outputId": "48591192-25b7-453a-a689-356869d2d153",
        "colab": {
          "base_uri": "https://localhost:8080/"
        }
      },
      "execution_count": null,
      "outputs": [
        {
          "output_type": "stream",
          "name": "stdout",
          "text": [
            "Distribution before imbalancing: Counter({0.0: 35346, 1.0: 35346})\n",
            "90% Imbalance \n",
            "\n",
            "Distribution after imbalancing: Counter({1.0: 35346, 0.0: 3928})\n",
            "total number of rows now = 39274\n"
          ]
        }
      ]
    },
    {
      "cell_type": "code",
      "source": [
        "histogram4=y3.hist() # 90% are 1's\n",
        "\n",
        "fig = histogram4.get_figure()\n",
        "\n",
        "pl.title(\"90% Imbalanced Dataset\")\n",
        "pl.xlabel(\"values of label Diabetes_binary\")\n",
        "pl.ylabel(\"count\")\n",
        "\n",
        "fig.savefig('Imbalanced3 90 perc.pdf')"
      ],
      "metadata": {
        "id": "l0cqmHCCx1LM",
        "outputId": "2a8fa795-a065-4ce0-c89d-fedda1d1f05b",
        "colab": {
          "base_uri": "https://localhost:8080/",
          "height": 296
        }
      },
      "execution_count": 45,
      "outputs": [
        {
          "output_type": "display_data",
          "data": {
            "image/png": "[encoded data removed]",
            "text/plain": [
              "<Figure size 432x288 with 1 Axes>"
            ]
          },
          "metadata": {
            "needs_background": "light"
          }
        }
      ]
    }
  ]
}