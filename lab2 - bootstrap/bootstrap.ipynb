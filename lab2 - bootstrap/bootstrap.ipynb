{
  "nbformat": 4,
  "nbformat_minor": 0,
  "metadata": {
    "colab": {
      "name": "bootstrap.ipynb",
      "provenance": [],
      "include_colab_link": true
    },
    "kernelspec": {
      "display_name": "Python 3",
      "language": "python",
      "name": "python3"
    },
    "language_info": {
      "codemirror_mode": {
        "name": "ipython",
        "version": 3
      },
      "file_extension": ".py",
      "mimetype": "text/x-python",
      "name": "python",
      "nbconvert_exporter": "python",
      "pygments_lexer": "ipython3",
      "version": "3.7.6"
    },
    "pycharm": {
      "stem_cell": {
        "cell_type": "raw",
        "metadata": {
          "collapsed": false
        },
        "source": []
      }
    }
  },
  "cells": [
    {
      "cell_type": "markdown",
      "metadata": {
        "id": "view-in-github",
        "colab_type": "text"
      },
      "source": [
        "<a href=\"https://colab.research.google.com/github/sa21262/datascience22/blob/main/lab2%20-%20bootstrap/bootstrap.ipynb\" target=\"_parent\"><img src=\"https://colab.research.google.com/assets/colab-badge.svg\" alt=\"Open In Colab\"/></a>"
      ]
    },
    {
      "cell_type": "markdown",
      "metadata": {
        "id": "nCi_99yMYIb1"
      },
      "source": [
        "In this notebook you'll create your own bootstrap function following the bootstrap algorithm (check the lecture notes!)"
      ]
    },
    {
      "cell_type": "code",
      "metadata": {
        "id": "LY5zujI2YC37",
        "pycharm": {
          "name": "#%%# Imports\n"
        }
      },
      "source": [
        "import matplotlib\n",
        "import pandas as pd\n",
        "import seaborn as sns\n",
        "import numpy as np\n",
        "import matplotlib.pyplot as plt\n",
        "import math\n",
        "\n",
        "\n"
      ],
      "execution_count": 69,
      "outputs": []
    },
    {
      "cell_type": "code",
      "metadata": {
        "id": "Eqkwj4SMY38t",
        "colab": {
          "base_uri": "https://localhost:8080/"
        },
        "outputId": "b149ab94-670f-401e-e923-120f5c579df9"
      },
      "source": [
        "# Load the data\n",
        "df = pd.read_csv('https://raw.githubusercontent.com/albanda/CE888/master/lab2%20-%20bootstrap/customers.csv')\n",
        "data = df.values.T[1] # converted to numpy array \n",
        "print (type(data))\n",
        "print (data)\n",
        "print (data.shape[0])\n",
        "\n"
      ],
      "execution_count": 70,
      "outputs": [
        {
          "output_type": "stream",
          "name": "stdout",
          "text": [
            "<class 'numpy.ndarray'>\n",
            "[ 2.  8. 20. 13.  5.  9. 10.  8. 22. 10.  2.  4.  7.  9.]\n",
            "14\n"
          ]
        }
      ]
    },
    {
      "cell_type": "code",
      "metadata": {
        "id": "Gxvc_bScYC4H",
        "pycharm": {
          "name": "#%%\n"
        }
      },
      "source": [
        "from os import X_OK\n",
        "# Checking the notes from the lecture, create here your own bootstrap function:\n",
        "# 1. Sample from the input array x to create an array of samples of shape (n_bootstraps, sample_size)\n",
        "# Hint: Check the function random.choice() on Numpy\n",
        "# 2. Calculate and save the mean of the array (this is \"data_mean\" that is returned by the function)\n",
        "# 3. Calculate the mean from each bootstrap (i.e., row) and store it.\n",
        "# (This should be an array of n_bootstraps values)\n",
        "# 4. Calculate the lower and upper bounds for a 95% CI (hint: check the percentile function on Numpy)\n",
        "# 5. Return data_mean, and the lower and upper bounds of your interval\n",
        "def bootstrap_mean(x, sample_size, n_bootstraps): #(data , 14 , 50) is passed \n",
        "\t# <---INSERT YOUR CODE HERE--->\n",
        "\tsamples1=np.random.choice(x, size=(n_bootstraps,sample_size)) #it gives me outputs = sample size and this process repeats n_bootstrap times \n",
        "\t\n",
        "\tbootstrap_mean=np.mean(samples1,axis=1)\n",
        "\tbootstrap_std=np.std(samples1,axis=1)\n",
        "\n",
        "\tdata_mean= np.mean(bootstrap_mean)\n",
        "\tdata_std= np.std(bootstrap_mean)\n",
        "\t#bootstrap_mean=np.sort(bootstrap_mean) # percentile sorts auto \n",
        "\tupper = np.percentile(bootstrap_mean, 97.5)\n",
        "\tlower = np.percentile(bootstrap_mean, 2.5)\n",
        "\treturn data_mean, lower, upper\n"
      ],
      "execution_count": 71,
      "outputs": []
    },
    {
      "cell_type": "code",
      "metadata": {
        "id": "AN7sEOcMYC4P",
        "pycharm": {
          "name": "#%%\n"
        },
        "colab": {
          "base_uri": "https://localhost:8080/",
          "height": 458
        },
        "outputId": "fb0b7767-24fc-4207-b95a-ae365b6a2ed6"
      },
      "source": [
        "# Call your bootstrap function and plot the results\n",
        "\n",
        "boots = []\n",
        "for i in range(100, 50000, 1000): #each time this loop runs it appends list with three lists as below  \n",
        "    boot = bootstrap_mean(data, data.shape[0], i)\n",
        "    boots.append([i, boot[0], \"mean\"]) # as function returns three parameters all together  boot[0] is data_mean \n",
        "    boots.append([i, boot[1], \"lower\"])\n",
        "    boots.append([i, boot[2], \"upper\"])\n",
        "print (boots)\n",
        "df_boot = pd.DataFrame(boots, columns=['Bootstrap Iterations', 'Mean', \"Value\"])\n",
        "sns_plot = sns.lmplot(df_boot.columns[0], df_boot.columns[1], data=df_boot, fit_reg=False, hue=\"Value\")\n",
        "\n",
        "sns_plot.axes[0, 0].set_ylim(0,)\n",
        "sns_plot.axes[0, 0].set_xlim(0, 50000)\n"
      ],
      "execution_count": 72,
      "outputs": [
        {
          "output_type": "stream",
          "name": "stdout",
          "text": [
            "[[100, 9.205714285714286, 'mean'], [100, 6.424999999999999, 'lower'], [100, 12.285714285714286, 'upper'], [1100, 9.158441558441558, 'mean'], [1100, 6.571428571428571, 'lower'], [1100, 12.180357142857133, 'upper'], [2100, 9.218367346938775, 'mean'], [2100, 6.5, 'lower'], [2100, 12.428571428571429, 'upper'], [3100, 9.181520737327189, 'mean'], [3100, 6.4625, 'lower'], [3100, 12.285714285714286, 'upper'], [4100, 9.247108013937282, 'mean'], [4100, 6.428571428571429, 'lower'], [4100, 12.357142857142858, 'upper'], [5100, 9.194957983193277, 'mean'], [5100, 6.5, 'lower'], [5100, 12.357142857142858, 'upper'], [6100, 9.203185011709602, 'mean'], [6100, 6.428571428571429, 'lower'], [6100, 12.285714285714286, 'upper'], [7100, 9.227655935613681, 'mean'], [7100, 6.5, 'lower'], [7100, 12.357142857142858, 'upper'], [8100, 9.204559082892418, 'mean'], [8100, 6.428571428571429, 'lower'], [8100, 12.357142857142858, 'upper'], [9100, 9.188767660910518, 'mean'], [9100, 6.357142857142857, 'lower'], [9100, 12.357142857142858, 'upper'], [10100, 9.232743988684582, 'mean'], [10100, 6.462500000000002, 'lower'], [10100, 12.357142857142858, 'upper'], [11100, 9.22623552123552, 'mean'], [11100, 6.428571428571429, 'lower'], [11100, 12.357142857142858, 'upper'], [12100, 9.238246753246752, 'mean'], [12100, 6.5, 'lower'], [12100, 12.357142857142858, 'upper'], [13100, 9.20686477644493, 'mean'], [13100, 6.462500000000002, 'lower'], [13100, 12.357142857142858, 'upper'], [14100, 9.214701114488347, 'mean'], [14100, 6.357142857142857, 'lower'], [14100, 12.428571428571429, 'upper'], [15100, 9.20868022705771, 'mean'], [15100, 6.428571428571429, 'lower'], [15100, 12.357142857142858, 'upper'], [16100, 9.209871339840284, 'mean'], [16100, 6.357142857142857, 'lower'], [16100, 12.357142857142858, 'upper'], [17100, 9.207685881370093, 'mean'], [17100, 6.428571428571429, 'lower'], [17100, 12.428571428571429, 'upper'], [18100, 9.209364640883978, 'mean'], [18100, 6.428571428571429, 'lower'], [18100, 12.357142857142858, 'upper'], [19100, 9.201634255796558, 'mean'], [19100, 6.428571428571429, 'lower'], [19100, 12.357142857142858, 'upper'], [20100, 9.236627576403697, 'mean'], [20100, 6.428571428571429, 'lower'], [20100, 12.357142857142858, 'upper'], [21100, 9.203375084631007, 'mean'], [21100, 6.428571428571429, 'lower'], [21100, 12.357142857142858, 'upper'], [22100, 9.212650290885584, 'mean'], [22100, 6.428571428571429, 'lower'], [22100, 12.357142857142858, 'upper'], [23100, 9.207149041434755, 'mean'], [23100, 6.428571428571429, 'lower'], [23100, 12.357142857142858, 'upper'], [24100, 9.228541790160047, 'mean'], [24100, 6.5, 'lower'], [24100, 12.357142857142858, 'upper'], [25100, 9.216903813318156, 'mean'], [25100, 6.428571428571429, 'lower'], [25100, 12.357142857142858, 'upper'], [26100, 9.219332238642583, 'mean'], [26100, 6.428571428571429, 'lower'], [26100, 12.428571428571429, 'upper'], [27100, 9.20290458618872, 'mean'], [27100, 6.428571428571429, 'lower'], [27100, 12.357142857142858, 'upper'], [28100, 9.213759532282664, 'mean'], [28100, 6.428571428571429, 'lower'], [28100, 12.357142857142858, 'upper'], [29100, 9.202486499754542, 'mean'], [29100, 6.428571428571429, 'lower'], [29100, 12.357142857142858, 'upper'], [30100, 9.218616516373991, 'mean'], [30100, 6.428571428571429, 'lower'], [30100, 12.357142857142858, 'upper'], [31100, 9.213128158015616, 'mean'], [31100, 6.5, 'lower'], [31100, 12.357142857142858, 'upper'], [32100, 9.218696039163328, 'mean'], [32100, 6.428571428571429, 'lower'], [32100, 12.357142857142858, 'upper'], [33100, 9.205153215364696, 'mean'], [33100, 6.428571428571429, 'lower'], [33100, 12.357142857142858, 'upper'], [34100, 9.216470465018851, 'mean'], [34100, 6.428571428571429, 'lower'], [34100, 12.357142857142858, 'upper'], [35100, 9.217203907203906, 'mean'], [35100, 6.428571428571429, 'lower'], [35100, 12.357142857142858, 'upper'], [36100, 9.206984566679857, 'mean'], [36100, 6.428571428571429, 'lower'], [36100, 12.357142857142858, 'upper'], [37100, 9.213403927608779, 'mean'], [37100, 6.428571428571429, 'lower'], [37100, 12.357142857142858, 'upper'], [38100, 9.22416947881515, 'mean'], [38100, 6.428571428571429, 'lower'], [38100, 12.357142857142858, 'upper'], [39100, 9.213306540007308, 'mean'], [39100, 6.462500000000002, 'lower'], [39100, 12.357142857142858, 'upper'], [40100, 9.21514250089063, 'mean'], [40100, 6.428571428571429, 'lower'], [40100, 12.357142857142858, 'upper'], [41100, 9.221616266944734, 'mean'], [41100, 6.428571428571429, 'lower'], [41100, 12.428571428571429, 'upper'], [42100, 9.204837122497455, 'mean'], [42100, 6.428571428571429, 'lower'], [42100, 12.357142857142858, 'upper'], [43100, 9.220546900894929, 'mean'], [43100, 6.428571428571429, 'lower'], [43100, 12.428571428571429, 'upper'], [44100, 9.212951085195982, 'mean'], [44100, 6.428571428571429, 'lower'], [44100, 12.357142857142858, 'upper'], [45100, 9.221544187519799, 'mean'], [45100, 6.428571428571429, 'lower'], [45100, 12.357142857142858, 'upper'], [46100, 9.217483731019522, 'mean'], [46100, 6.5, 'lower'], [46100, 12.357142857142858, 'upper'], [47100, 9.226986654534427, 'mean'], [47100, 6.428571428571429, 'lower'], [47100, 12.357142857142858, 'upper'], [48100, 9.216694386694385, 'mean'], [48100, 6.428571428571429, 'lower'], [48100, 12.357142857142858, 'upper'], [49100, 9.206095432062845, 'mean'], [49100, 6.428571428571429, 'lower'], [49100, 12.357142857142858, 'upper']]\n"
          ]
        },
        {
          "output_type": "stream",
          "name": "stderr",
          "text": [
            "/usr/local/lib/python3.7/dist-packages/seaborn/_decorators.py:43: FutureWarning: Pass the following variables as keyword args: x, y. From version 0.12, the only valid positional argument will be `data`, and passing other arguments without an explicit keyword will result in an error or misinterpretation.\n",
            "  FutureWarning\n"
          ]
        },
        {
          "output_type": "execute_result",
          "data": {
            "text/plain": [
              "(0.0, 50000.0)"
            ]
          },
          "metadata": {},
          "execution_count": 72
        },
        {
          "output_type": "display_data",
          "data": {
            "image/png": "[encoded data removed]",
            "text/plain": [
              "<Figure size 425.125x360 with 1 Axes>"
            ]
          },
          "metadata": {
            "needs_background": "light"
          }
        }
      ]
    },
    {
      "cell_type": "code",
      "source": [
        "df_boot"
      ],
      "metadata": {
        "colab": {
          "base_uri": "https://localhost:8080/",
          "height": 424
        },
        "id": "qLdhLhNAN6j6",
        "outputId": "329935dd-af8c-42e9-8dd3-e8b051ed2a24"
      },
      "execution_count": 73,
      "outputs": [
        {
          "output_type": "execute_result",
          "data": {
            "text/html": [
              "\n",
              "  <div id=\"df-4dbcca45-98ed-45d8-9fc2-b55aa65256be\">\n",
              "    <div class=\"colab-df-container\">\n",
              "      <div>\n",
              "<style scoped>\n",
              "    .dataframe tbody tr th:only-of-type {\n",
              "        vertical-align: middle;\n",
              "    }\n",
              "\n",
              "    .dataframe tbody tr th {\n",
              "        vertical-align: top;\n",
              "    }\n",
              "\n",
              "    .dataframe thead th {\n",
              "        text-align: right;\n",
              "    }\n",
              "</style>\n",
              "<table border=\"1\" class=\"dataframe\">\n",
              "  <thead>\n",
              "    <tr style=\"text-align: right;\">\n",
              "      <th></th>\n",
              "      <th>Bootstrap Iterations</th>\n",
              "      <th>Mean</th>\n",
              "      <th>Value</th>\n",
              "    </tr>\n",
              "  </thead>\n",
              "  <tbody>\n",
              "    <tr>\n",
              "      <th>0</th>\n",
              "      <td>100</td>\n",
              "      <td>9.205714</td>\n",
              "      <td>mean</td>\n",
              "    </tr>\n",
              "    <tr>\n",
              "      <th>1</th>\n",
              "      <td>100</td>\n",
              "      <td>6.425000</td>\n",
              "      <td>lower</td>\n",
              "    </tr>\n",
              "    <tr>\n",
              "      <th>2</th>\n",
              "      <td>100</td>\n",
              "      <td>12.285714</td>\n",
              "      <td>upper</td>\n",
              "    </tr>\n",
              "    <tr>\n",
              "      <th>3</th>\n",
              "      <td>1100</td>\n",
              "      <td>9.158442</td>\n",
              "      <td>mean</td>\n",
              "    </tr>\n",
              "    <tr>\n",
              "      <th>4</th>\n",
              "      <td>1100</td>\n",
              "      <td>6.571429</td>\n",
              "      <td>lower</td>\n",
              "    </tr>\n",
              "    <tr>\n",
              "      <th>...</th>\n",
              "      <td>...</td>\n",
              "      <td>...</td>\n",
              "      <td>...</td>\n",
              "    </tr>\n",
              "    <tr>\n",
              "      <th>145</th>\n",
              "      <td>48100</td>\n",
              "      <td>6.428571</td>\n",
              "      <td>lower</td>\n",
              "    </tr>\n",
              "    <tr>\n",
              "      <th>146</th>\n",
              "      <td>48100</td>\n",
              "      <td>12.357143</td>\n",
              "      <td>upper</td>\n",
              "    </tr>\n",
              "    <tr>\n",
              "      <th>147</th>\n",
              "      <td>49100</td>\n",
              "      <td>9.206095</td>\n",
              "      <td>mean</td>\n",
              "    </tr>\n",
              "    <tr>\n",
              "      <th>148</th>\n",
              "      <td>49100</td>\n",
              "      <td>6.428571</td>\n",
              "      <td>lower</td>\n",
              "    </tr>\n",
              "    <tr>\n",
              "      <th>149</th>\n",
              "      <td>49100</td>\n",
              "      <td>12.357143</td>\n",
              "      <td>upper</td>\n",
              "    </tr>\n",
              "  </tbody>\n",
              "</table>\n",
              "<p>150 rows × 3 columns</p>\n",
              "</div>\n",
              "      <button class=\"colab-df-convert\" onclick=\"convertToInteractive('df-4dbcca45-98ed-45d8-9fc2-b55aa65256be')\"\n",
              "              title=\"Convert this dataframe to an interactive table.\"\n",
              "              style=\"display:none;\">\n",
              "        \n",
              "  <svg xmlns=\"http://www.w3.org/2000/svg\" height=\"24px\"viewBox=\"0 0 24 24\"\n",
              "       width=\"24px\">\n",
              "    <path d=\"M0 0h24v24H0V0z\" fill=\"none\"/>\n",
              "    <path d=\"M18.56 5.44l.94 2.06.94-2.06 2.06-.94-2.06-.94-.94-2.06-.94 2.06-2.06.94zm-11 1L8.5 8.5l.94-2.06 2.06-.94-2.06-.94L8.5 2.5l-.94 2.06-2.06.94zm10 10l.94 2.06.94-2.06 2.06-.94-2.06-.94-.94-2.06-.94 2.06-2.06.94z\"/><path d=\"M17.41 7.96l-1.37-1.37c-.4-.4-.92-.59-1.43-.59-.52 0-1.04.2-1.43.59L10.3 9.45l-7.72 7.72c-.78.78-.78 2.05 0 2.83L4 21.41c.39.39.9.59 1.41.59.51 0 1.02-.2 1.41-.59l7.78-7.78 2.81-2.81c.8-.78.8-2.07 0-2.86zM5.41 20L4 18.59l7.72-7.72 1.47 1.35L5.41 20z\"/>\n",
              "  </svg>\n",
              "      </button>\n",
              "      \n",
              "  <style>\n",
              "    .colab-df-container {\n",
              "      display:flex;\n",
              "      flex-wrap:wrap;\n",
              "      gap: 12px;\n",
              "    }\n",
              "\n",
              "    .colab-df-convert {\n",
              "      background-color: #E8F0FE;\n",
              "      border: none;\n",
              "      border-radius: 50%;\n",
              "      cursor: pointer;\n",
              "      display: none;\n",
              "      fill: #1967D2;\n",
              "      height: 32px;\n",
              "      padding: 0 0 0 0;\n",
              "      width: 32px;\n",
              "    }\n",
              "\n",
              "    .colab-df-convert:hover {\n",
              "      background-color: #E2EBFA;\n",
              "      box-shadow: 0px 1px 2px rgba(60, 64, 67, 0.3), 0px 1px 3px 1px rgba(60, 64, 67, 0.15);\n",
              "      fill: #174EA6;\n",
              "    }\n",
              "\n",
              "    [theme=dark] .colab-df-convert {\n",
              "      background-color: #3B4455;\n",
              "      fill: #D2E3FC;\n",
              "    }\n",
              "\n",
              "    [theme=dark] .colab-df-convert:hover {\n",
              "      background-color: #434B5C;\n",
              "      box-shadow: 0px 1px 3px 1px rgba(0, 0, 0, 0.15);\n",
              "      filter: drop-shadow(0px 1px 2px rgba(0, 0, 0, 0.3));\n",
              "      fill: #FFFFFF;\n",
              "    }\n",
              "  </style>\n",
              "\n",
              "      <script>\n",
              "        const buttonEl =\n",
              "          document.querySelector('#df-4dbcca45-98ed-45d8-9fc2-b55aa65256be button.colab-df-convert');\n",
              "        buttonEl.style.display =\n",
              "          google.colab.kernel.accessAllowed ? 'block' : 'none';\n",
              "\n",
              "        async function convertToInteractive(key) {\n",
              "          const element = document.querySelector('#df-4dbcca45-98ed-45d8-9fc2-b55aa65256be');\n",
              "          const dataTable =\n",
              "            await google.colab.kernel.invokeFunction('convertToInteractive',\n",
              "                                                     [key], {});\n",
              "          if (!dataTable) return;\n",
              "\n",
              "          const docLinkHtml = 'Like what you see? Visit the ' +\n",
              "            '<a target=\"_blank\" href=https://colab.research.google.com/notebooks/data_table.ipynb>data table notebook</a>'\n",
              "            + ' to learn more about interactive tables.';\n",
              "          element.innerHTML = '';\n",
              "          dataTable['output_type'] = 'display_data';\n",
              "          await google.colab.output.renderOutput(dataTable, element);\n",
              "          const docLink = document.createElement('div');\n",
              "          docLink.innerHTML = docLinkHtml;\n",
              "          element.appendChild(docLink);\n",
              "        }\n",
              "      </script>\n",
              "    </div>\n",
              "  </div>\n",
              "  "
            ],
            "text/plain": [
              "     Bootstrap Iterations       Mean  Value\n",
              "0                     100   9.205714   mean\n",
              "1                     100   6.425000  lower\n",
              "2                     100  12.285714  upper\n",
              "3                    1100   9.158442   mean\n",
              "4                    1100   6.571429  lower\n",
              "..                    ...        ...    ...\n",
              "145                 48100   6.428571  lower\n",
              "146                 48100  12.357143  upper\n",
              "147                 49100   9.206095   mean\n",
              "148                 49100   6.428571  lower\n",
              "149                 49100  12.357143  upper\n",
              "\n",
              "[150 rows x 3 columns]"
            ]
          },
          "metadata": {},
          "execution_count": 73
        }
      ]
    },
    {
      "cell_type": "markdown",
      "metadata": {
        "id": "MjtP4e2_YC4V"
      },
      "source": [
        "\n",
        "Now, modify the bootstrap function you created above so that you can pass your desired confidence interval as a parameter.\n",
        "\n"
      ]
    },
    {
      "cell_type": "code",
      "metadata": {
        "id": "3K9j0FuGYhHs"
      },
      "source": [
        "def bootstrap_mean_ci(x, sample_size, n_bootstraps, ci):\n",
        "\t# <---INSERT YOUR CODE HERE--->\n",
        "\tsamples1=np.random.choice(x, size=(n_bootstraps,sample_size)) #it gives me outputs = sample size and this process repeats n_bootstrap times \n",
        "\t\n",
        "\tbootstrap_mean=np.mean(samples1,axis=1)\n",
        "\t#bootstrap_std=np.std(samples1,axis=1)\n",
        "\t\n",
        "\tdata_mean= np.mean(bootstrap_mean)\n",
        "\t#data_std= np.std(bootstrap_mean)\n",
        "\t#bootstrap_mean=np.sort(bootstrap_mean) # percentile sorts auto\n",
        "\tupper_percentile = ((100-ci)/2)+ci\n",
        "\tlower_percentile = ((100-ci)/2) \n",
        "\tupper = np.percentile(bootstrap_mean, upper_percentile)\n",
        "\tlower = np.percentile(bootstrap_mean, lower_percentile)\n",
        "\treturn data_mean, lower, upper"
      ],
      "execution_count": 74,
      "outputs": []
    },
    {
      "cell_type": "code",
      "metadata": {
        "id": "uDnjq08GYl-C",
        "colab": {
          "base_uri": "https://localhost:8080/",
          "height": 441
        },
        "outputId": "6b928f81-96e6-4f49-ff69-b1df4f58fda0"
      },
      "source": [
        "boots = []\n",
        "for i in range(100, 50000, 1000):\n",
        "    boot = bootstrap_mean_ci(data, data.shape[0], i, 80)\n",
        "    boots.append([i, boot[0], \"mean\"])\n",
        "    boots.append([i, boot[1], \"lower\"])\n",
        "    boots.append([i, boot[2], \"upper\"])\n",
        "\n",
        "df_boot = pd.DataFrame(boots, columns=['Boostrap Iterations', 'Mean', \"Value\"]) # creating a dataframe using three attribute of each element of the list \n",
        "sns_plot = sns.lmplot(df_boot.columns[0], df_boot.columns[1], data=df_boot, fit_reg=False, hue=\"Value\")\n",
        "\n",
        "sns_plot.axes[0, 0].set_ylim(0,)\n",
        "sns_plot.axes[0, 0].set_xlim(0, 50000)\n",
        "\n",
        "#sns_plot.savefig(\"bootstrap_confidence_80.pdf\", bbox_inches='tight')\n"
      ],
      "execution_count": 75,
      "outputs": [
        {
          "output_type": "stream",
          "name": "stderr",
          "text": [
            "/usr/local/lib/python3.7/dist-packages/seaborn/_decorators.py:43: FutureWarning: Pass the following variables as keyword args: x, y. From version 0.12, the only valid positional argument will be `data`, and passing other arguments without an explicit keyword will result in an error or misinterpretation.\n",
            "  FutureWarning\n"
          ]
        },
        {
          "output_type": "execute_result",
          "data": {
            "text/plain": [
              "(0.0, 50000.0)"
            ]
          },
          "metadata": {},
          "execution_count": 75
        },
        {
          "output_type": "display_data",
          "data": {
            "image/png": "[encoded data removed]",
            "text/plain": [
              "<Figure size 425.125x360 with 1 Axes>"
            ]
          },
          "metadata": {
            "needs_background": "light"
          }
        }
      ]
    },
    {
      "cell_type": "markdown",
      "metadata": {
        "id": "qjNgXW6wdd7r"
      },
      "source": [
        "# Vehicles dataset\n",
        "\n",
        "Now let's work on a different dataset, which is stored in the vehicles.csv file.\n"
      ]
    },
    {
      "cell_type": "code",
      "metadata": {
        "id": "avWv4ipFdpka",
        "colab": {
          "base_uri": "https://localhost:8080/",
          "height": 828
        },
        "outputId": "19dc3d8d-c3ae-4a48-ff05-9072f21bcdaa"
      },
      "source": [
        "# Load and visualise the vehicles dataset\n",
        "# To load the dataset: https://neptune.ai/blog/google-colab-dealing-with-files (check section \"Load individual files directly from GitHub\")\n",
        "\n",
        "\n",
        "# Note that the current and new fleets are in different columns and have different lengths, so bear this in mind when you're plotting.\n",
        "# You can create separate scatterplots for the two fleets, as you would with the histograms, \n",
        "# or plot them both in one plot (but not one against the other).\n",
        "# <---INSERT YOUR CODE HERE--->\n",
        "df1=pd.read_csv('https://raw.githubusercontent.com/albanda/CE888/master/lab2%20-%20bootstrap/vehicles.csv') # loading a vehicle data set \n",
        "\n",
        "df1['id'] = np.arange(len(df1)) #adding a column to vehichle data set of len(df1) means according to lenght of each unequal column \n",
        "\n",
        "sns.lmplot('id', 'Current fleet', data=df1, fit_reg=False) #plotting Current fleet against id \n",
        "sns.lmplot('id', 'New Fleet', data=df1, fit_reg=False)\n",
        "\n",
        "#data1=df1['Current fleet'].values\n",
        "#x = np.arange(250) # creates a array containing numbers from 0 to 249\n",
        "#plt.scatter(np.arange(250),data1 ) # way of plotting using matplotlib.pyplot \n",
        "#plt.xlabel('ID')\n",
        "#plt.ylabel('Current fleet')\n",
        "#data2=df1['New Fleet'].values\n",
        "# Note: you can add more cells as needed to organise your code and your plots\n"
      ],
      "execution_count": 76,
      "outputs": [
        {
          "output_type": "stream",
          "name": "stderr",
          "text": [
            "/usr/local/lib/python3.7/dist-packages/seaborn/_decorators.py:43: FutureWarning: Pass the following variables as keyword args: x, y. From version 0.12, the only valid positional argument will be `data`, and passing other arguments without an explicit keyword will result in an error or misinterpretation.\n",
            "  FutureWarning\n",
            "/usr/local/lib/python3.7/dist-packages/seaborn/_decorators.py:43: FutureWarning: Pass the following variables as keyword args: x, y. From version 0.12, the only valid positional argument will be `data`, and passing other arguments without an explicit keyword will result in an error or misinterpretation.\n",
            "  FutureWarning\n"
          ]
        },
        {
          "output_type": "execute_result",
          "data": {
            "text/plain": [
              "<seaborn.axisgrid.FacetGrid at 0x7ff059299510>"
            ]
          },
          "metadata": {},
          "execution_count": 76
        },
        {
          "output_type": "display_data",
          "data": {
            "image/png": "[encoded data removed]",
            "text/plain": [
              "<Figure size 360x360 with 1 Axes>"
            ]
          },
          "metadata": {
            "needs_background": "light"
          }
        },
        {
          "output_type": "display_data",
          "data": {
            "image/png": "[encoded data removed]",
            "text/plain": [
              "<Figure size 360x360 with 1 Axes>"
            ]
          },
          "metadata": {
            "needs_background": "light"
          }
        }
      ]
    },
    {
      "cell_type": "code",
      "source": [
        "\n",
        "#df1.tail() # prints last five values of data"
      ],
      "metadata": {
        "id": "C9dNSd6JRmly"
      },
      "execution_count": null,
      "outputs": []
    },
    {
      "cell_type": "code",
      "source": [
        "#df1.head() # prints first five values of data"
      ],
      "metadata": {
        "id": "s29_wER-LAae"
      },
      "execution_count": null,
      "outputs": []
    },
    {
      "cell_type": "code",
      "source": [
        "#df1"
      ],
      "metadata": {
        "id": "ie1uQ-5FNXO4"
      },
      "execution_count": null,
      "outputs": []
    },
    {
      "cell_type": "markdown",
      "metadata": {
        "id": "B5d0tXDpIEj8"
      },
      "source": [
        "## Compare the two fleets\n",
        "\n",
        "The business analysts come up a comparison algorithm that requires the upper and lower bounds for the mean in order to say which fleet is better.\n",
        "1. Calculate the mean of both samples.\n",
        "2. Using the bootstrap function that you created:\n",
        "    - Construct the 95% CI of the mean of the current fleet.\n",
        "    - Construct the 95% CI of the mean of the new fleet.\n",
        "    - Are they comparable? (i.e., is one better than the other?) -- you can do this with a permutation test (check the lecture notes!)"
      ]
    },
    {
      "cell_type": "code",
      "metadata": {
        "id": "po4mp6zRHC0m",
        "colab": {
          "base_uri": "https://localhost:8080/"
        },
        "outputId": "7f9b71b8-3ba6-4ddd-cf7e-50f4bcfc57a6"
      },
      "source": [
        "from numpy.core.numeric import NaN\n",
        "# <---INSERT YOUR CODE HERE--->\n",
        "\n",
        "'''mean_current_fleet=df1['Current fleet'].mean()# mean of current fleet \n",
        "\n",
        "mean_New_Fleet=df1['New Fleet'].mean()# mean of new fleet \n",
        "\n",
        "print (mean_current_fleet)\n",
        "\n",
        "print (mean_New_Fleet)'''\n",
        "def no_nan_data(sample):\n",
        "  store_if_nonan = []\n",
        "  for i in sample:\n",
        "    if math.isnan(i) == False:\n",
        "      store_if_nonan.append(i)\n",
        "  data_len = len(store_if_nonan)\n",
        "  no_nan_array = np.array(store_if_nonan)\n",
        "  #print(len(no_nan_array))\n",
        "  return no_nan_array\n",
        "\n",
        "no_nan_data_current = no_nan_data(df1['Current fleet'].values)\n",
        "no_nan_data_new = no_nan_data(df1['New Fleet'].values)\n",
        "#no_nan_data_new = df1[~df1['New Fleet'].isnull()] # removes all the rows from data set which contains NaN value but the problem is that specific row is removed from every column of data set  \n",
        "#no_nan_data_new=df1[df1['New Fleet'].notnull()]\n",
        "\n",
        "#nans_indices = df1.columns[df1.isna().any()].tolist() # to check which column cotain nans values \n",
        "\n",
        "\n",
        "mean_current_fleet=df1['Current fleet'].mean()# mean of current fleet # mean of current fleet with respect to 250 values using df function \n",
        "mean_New_Fleet=df1['New Fleet'].mean()# mean of new fleet # mean of new fleet with respect to 80 values\n",
        "\n",
        "\n",
        "\n",
        "\n",
        "print (mean_current_fleet)\n",
        "print (mean_New_Fleet)\n",
        "tobs = mean_New_Fleet - mean_current_fleet\n",
        "\n",
        "print('our observation is tobs=',tobs)\n",
        "print (no_nan_data_new)\n",
        "\n",
        "\n",
        "\n",
        "\n",
        "a=bootstrap_mean_ci(no_nan_data_current, len(no_nan_data_current), 10000, 95)\n",
        "b=bootstrap_mean_ci(no_nan_data_new, len(no_nan_data_new), 10000, 95)\n",
        "#std1=bootstrap_mean_ci(no_nan_data_current, len(no_nan_data_current), 10000, 99)\n",
        "\n",
        "print(a)\n",
        "print(b)\n",
        "#print (std1)"
      ],
      "execution_count": 78,
      "outputs": [
        {
          "output_type": "stream",
          "name": "stdout",
          "text": [
            "20.14457831325301\n",
            "30.481012658227847\n",
            "our observation is tobs= 10.336434344974837\n",
            "[24. 27. 27. 25. 31. 35. 24. 19. 28. 23. 27. 20. 22. 18. 20. 31. 32. 31.\n",
            " 32. 24. 26. 29. 24. 24. 33. 33. 32. 28. 19. 32. 34. 26. 30. 22. 22. 33.\n",
            " 39. 36. 28. 27. 21. 24. 30. 34. 32. 38. 37. 30. 31. 37. 32. 47. 41. 45.\n",
            " 34. 33. 24. 32. 39. 35. 32. 37. 38. 34. 34. 32. 33. 32. 25. 24. 37. 31.\n",
            " 36. 36. 34. 38. 32. 38. 32.]\n",
            "(20.148032128514057, 19.36144578313253, 20.967871485943775)\n",
            "(30.48641898734177, 29.17721518987342, 31.835443037974684)\n"
          ]
        }
      ]
    },
    {
      "cell_type": "code",
      "metadata": {
        "id": "MkxvDZG4HC0n",
        "colab": {
          "base_uri": "https://localhost:8080/"
        },
        "outputId": "67ab2b74-2380-4429-edec-b5d3b1d96039"
      },
      "source": [
        "# Create your own function for a permutation test here (you will need it for the lab quiz!):\n",
        "\n",
        "def permut_test(sample1, sample2, n_permutations):\n",
        "\n",
        "    concat = np.concatenate((sample1, sample2))\n",
        "    #((no_nan_data_current, no_nan_data_new))\n",
        "    keep_in=[]\n",
        "    for i in range(n_permutations):\n",
        "      perm = np.random.permutation(concat)\n",
        "      p_current = perm[:int(len(sample1))]\n",
        "      p_new = perm[len(sample2):]\n",
        "      mean_of_p_current = np.mean(p_current)\n",
        "      #print('1',mean_of_p_current)\n",
        "      mean_of_p_new = np.mean(p_new)\n",
        "     # print(mean_of_p_new)\n",
        "      tperm = mean_of_p_new - mean_of_p_current\n",
        "      \n",
        "      if tperm > 0:\n",
        "        keep_in.append(tperm)\n",
        "        \n",
        "        \n",
        "    keep_in_array = np.array(keep_in)\n",
        "    count=0\n",
        "    for j in keep_in_array:\n",
        "      if j > tobs:\n",
        "        count=count+1\n",
        "\n",
        "    p=count/n_permutations   \n",
        "    \n",
        "    return p\n",
        "\n",
        "permut_test(no_nan_data_current, no_nan_data_new, 30000)\n",
        "\n",
        "    "
      ],
      "execution_count": 101,
      "outputs": [
        {
          "output_type": "execute_result",
          "data": {
            "text/plain": [
              "0.0"
            ]
          },
          "metadata": {},
          "execution_count": 101
        }
      ]
    },
    {
      "cell_type": "code",
      "source": [
        "# The variables below represent the percentages of democratic votes in Pennsylvania and Ohio (one value for each state).\n",
        "dem_share_PA = [60.08, 40.64, 36.07, 41.21, 31.04, 43.78, 44.08, 46.85, 44.71, 46.15, 63.10, 52.20, 43.18, 40.24, 39.92, 47.87, 37.77, 40.11, 49.85, 48.61, 38.62, 54.25, 34.84, 47.75, 43.82, 55.97, 58.23, 42.97, 42.38, 36.11, 37.53, 42.65, 50.96, 47.43, 56.24, 45.60, 46.39, 35.22, 48.56, 32.97, 57.88, 36.05, 37.72, 50.36, 32.12, 41.55, 54.66, 57.81, 54.58, 32.88, 54.37, 40.45, 47.61, 60.49, 43.11, 27.32, 44.03, 33.56, 37.26, 54.64, 43.12, 25.34, 49.79, 83.56, 40.09, 60.81, 49.81]\n",
        "dem_share_OH = [56.94, 50.46, 65.99, 45.88, 42.23, 45.26, 57.01, 53.61, 59.10, 61.48, 43.43, 44.69, 54.59, 48.36, 45.89, 48.62, 43.92, 38.23, 28.79, 63.57, 38.07, 40.18, 43.05, 41.56, 42.49, 36.06, 52.76, 46.07, 39.43, 39.26, 47.47, 27.92, 38.01, 45.45, 29.07, 28.94, 51.28, 50.10, 39.84, 36.43, 35.71, 31.47, 47.01, 40.10, 48.76, 31.56, 39.86, 45.31, 35.47, 51.38, 46.33, 48.73, 41.77, 41.32, 48.46, 53.14, 34.01, 54.74, 40.67, 38.96, 46.29, 38.25, 6.80, 31.75, 46.33, 44.90, 33.57, 38.10, 39.67, 40.47, 49.44, 37.62, 36.71, 46.73, 42.20, 53.16, 52.40, 58.36, 68.02, 38.53, 34.58, 69.64, 60.50, 53.53, 36.54, 49.58, 41.97, 38.11]\n",
        "print (len(dem_share_PA))\n",
        "print (len(dem_share_OH))\n",
        "\n",
        "dem_share_PA=np.array(dem_share_PA) #converting to np array \n",
        "dem_share_OH=np.array(dem_share_OH) # converting to np array\n",
        "\n",
        "a2=bootstrap_mean_ci(dem_share_PA, len(dem_share_PA), 25000, 90)\n",
        "b2=bootstrap_mean_ci(dem_share_OH, len(dem_share_OH), 25000, 90)\n",
        "\n",
        "print ('PA=',a2)\n",
        "print ('OH=',b2)\n",
        "d2=a2[0]-b2[0]\n",
        "\n",
        "\n",
        "def permut_test1(sample1, sample2, n_permutations):\n",
        "\n",
        "    concat = np.concatenate((sample1, sample2))\n",
        "    #((no_nan_data_current, no_nan_data_new))\n",
        "    keep_in=[]\n",
        "    for i in range(n_permutations):\n",
        "      perm = np.random.permutation(concat)\n",
        "      p_current = perm[:int(len(sample1))]\n",
        "      p_new = perm[len(sample2):]\n",
        "      mean_of_p_current = np.mean(p_current)\n",
        "      #print('1',mean_of_p_current)\n",
        "      mean_of_p_new = np.mean(p_new)\n",
        "     # print(mean_of_p_new)\n",
        "      tperm = mean_of_p_new - mean_of_p_current\n",
        "      \n",
        "      if tperm > 0:\n",
        "        keep_in.append(tperm)\n",
        "        \n",
        "        \n",
        "    keep_in_array = np.array(keep_in)\n",
        "    count=0\n",
        "    for j in keep_in_array:\n",
        "      if j > d2:\n",
        "        count=count+1\n",
        "\n",
        "    p=count/n_permutations   \n",
        "    \n",
        "    return p\n",
        "\n",
        "permut_test1(dem_share_PA, dem_share_OH, 20000)\n"
      ],
      "metadata": {
        "id": "zuKgQDANvEYp",
        "outputId": "9f9e4515-7b47-4ec4-aa7a-a7ac880302cc",
        "colab": {
          "base_uri": "https://localhost:8080/"
        }
      },
      "execution_count": 106,
      "outputs": [
        {
          "output_type": "stream",
          "name": "stdout",
          "text": [
            "67\n",
            "88\n",
            "PA= (45.460176579104484, 43.52655970149254, 47.46526119402985)\n",
            "OH= (44.32653999090909, 42.6189375, 46.03910795454546)\n"
          ]
        },
        {
          "output_type": "execute_result",
          "data": {
            "text/plain": [
              "0.2604"
            ]
          },
          "metadata": {},
          "execution_count": 106
        }
      ]
    }
  ]
}