{
  "nbformat": 4,
  "nbformat_minor": 0,
  "metadata": {
    "colab": {
      "name": "bootstrap.ipynb",
      "provenance": [],
      "include_colab_link": true
    },
    "kernelspec": {
      "display_name": "Python 3",
      "language": "python",
      "name": "python3"
    },
    "language_info": {
      "codemirror_mode": {
        "name": "ipython",
        "version": 3
      },
      "file_extension": ".py",
      "mimetype": "text/x-python",
      "name": "python",
      "nbconvert_exporter": "python",
      "pygments_lexer": "ipython3",
      "version": "3.7.6"
    },
    "pycharm": {
      "stem_cell": {
        "cell_type": "raw",
        "metadata": {
          "collapsed": false
        },
        "source": []
      }
    }
  },
  "cells": [
    {
      "cell_type": "markdown",
      "metadata": {
        "id": "view-in-github",
        "colab_type": "text"
      },
      "source": [
        "<a href=\"https://colab.research.google.com/github/sa21262/datascience22/blob/main/lab2%20-%20bootstrap/bootstrap.ipynb\" target=\"_parent\"><img src=\"https://colab.research.google.com/assets/colab-badge.svg\" alt=\"Open In Colab\"/></a>"
      ]
    },
    {
      "cell_type": "markdown",
      "metadata": {
        "id": "nCi_99yMYIb1"
      },
      "source": [
        "In this notebook you'll create your own bootstrap function following the bootstrap algorithm (check the lecture notes!)"
      ]
    },
    {
      "cell_type": "code",
      "metadata": {
        "id": "LY5zujI2YC37",
        "pycharm": {
          "name": "#%%# Imports\n"
        }
      },
      "source": [
        "import matplotlib\n",
        "import pandas as pd\n",
        "import seaborn as sns\n",
        "import numpy as np\n",
        "import matplotlib.pyplot as plt\n",
        "\n",
        "\n"
      ],
      "execution_count": 1,
      "outputs": []
    },
    {
      "cell_type": "code",
      "metadata": {
        "id": "Eqkwj4SMY38t",
        "colab": {
          "base_uri": "https://localhost:8080/"
        },
        "outputId": "2b3828f6-64b1-42c6-9877-3a3464d4a562"
      },
      "source": [
        "# Load the data\n",
        "df = pd.read_csv('https://raw.githubusercontent.com/albanda/CE888/master/lab2%20-%20bootstrap/customers.csv')\n",
        "data = df.values.T[1] # converted to numpy array \n",
        "print (type(data))\n",
        "print (data)\n",
        "print (data.shape[0])\n",
        "\n"
      ],
      "execution_count": 2,
      "outputs": [
        {
          "output_type": "stream",
          "name": "stdout",
          "text": [
            "<class 'numpy.ndarray'>\n",
            "[ 2.  8. 20. 13.  5.  9. 10.  8. 22. 10.  2.  4.  7.  9.]\n",
            "14\n"
          ]
        }
      ]
    },
    {
      "cell_type": "code",
      "metadata": {
        "id": "Gxvc_bScYC4H",
        "pycharm": {
          "name": "#%%\n"
        }
      },
      "source": [
        "from os import X_OK\n",
        "# Checking the notes from the lecture, create here your own bootstrap function:\n",
        "# 1. Sample from the input array x to create an array of samples of shape (n_bootstraps, sample_size)\n",
        "# Hint: Check the function random.choice() on Numpy\n",
        "# 2. Calculate and save the mean of the array (this is \"data_mean\" that is returned by the function)\n",
        "# 3. Calculate the mean from each bootstrap (i.e., row) and store it.\n",
        "# (This should be an array of n_bootstraps values)\n",
        "# 4. Calculate the lower and upper bounds for a 95% CI (hint: check the percentile function on Numpy)\n",
        "# 5. Return data_mean, and the lower and upper bounds of your interval\n",
        "def bootstrap_mean(x, sample_size, n_bootstraps): #(data , 14 , 50) is passed \n",
        "\t# <---INSERT YOUR CODE HERE--->\n",
        "\tsamples1=np.random.choice(x, size=(n_bootstraps,sample_size)) #it gives me outputs = sample size and this process repeats n_bootstrap times \n",
        "\tdata_mean= np.mean(samples1)\n",
        "\tbootstrap_mean=np.mean(samples1,axis=1)\n",
        "\t#bootstrap_mean=np.sort(bootstrap_mean) # percentile sorts auto \n",
        "\tupper = np.percentile(bootstrap_mean, 97.5)\n",
        "\tlower = np.percentile(bootstrap_mean, 2.5)\n",
        "\treturn data_mean, lower, upper\n"
      ],
      "execution_count": 3,
      "outputs": []
    },
    {
      "cell_type": "code",
      "metadata": {
        "id": "AN7sEOcMYC4P",
        "pycharm": {
          "name": "#%%\n"
        },
        "colab": {
          "base_uri": "https://localhost:8080/",
          "height": 458
        },
        "outputId": "2c538480-16e6-43d6-8e42-8c9730671fd7"
      },
      "source": [
        "# Call your bootstrap function and plot the results\n",
        "\n",
        "boots = []\n",
        "for i in range(100, 50000, 1000): #each time this loop runs it appends list with three lists as below  \n",
        "    boot = bootstrap_mean(data, data.shape[0], i)\n",
        "    boots.append([i, boot[0], \"mean\"]) # as function returns three parameters all together  boot[0] is data_mean \n",
        "    boots.append([i, boot[1], \"lower\"])\n",
        "    boots.append([i, boot[2], \"upper\"])\n",
        "print (boots)\n",
        "df_boot = pd.DataFrame(boots, columns=['Bootstrap Iterations', 'Mean', \"Value\"])\n",
        "sns_plot = sns.lmplot(df_boot.columns[0], df_boot.columns[1], data=df_boot, fit_reg=False, hue=\"Value\")\n",
        "\n",
        "sns_plot.axes[0, 0].set_ylim(0,)\n",
        "sns_plot.axes[0, 0].set_xlim(0, 50000)\n"
      ],
      "execution_count": 4,
      "outputs": [
        {
          "output_type": "stream",
          "name": "stdout",
          "text": [
            "[[100, 9.107857142857142, 'mean'], [100, 6.424999999999999, 'lower'], [100, 11.649999999999999, 'upper'], [1100, 9.262077922077921, 'mean'], [1100, 6.5, 'lower'], [1100, 12.5, 'upper'], [2100, 9.207891156462585, 'mean'], [2100, 6.428571428571429, 'lower'], [2100, 12.214285714285714, 'upper'], [3100, 9.196935483870968, 'mean'], [3100, 6.428571428571429, 'lower'], [3100, 12.357142857142858, 'upper'], [4100, 9.254529616724739, 'mean'], [4100, 6.428571428571429, 'lower'], [4100, 12.428571428571429, 'upper'], [5100, 9.243641456582633, 'mean'], [5100, 6.5, 'lower'], [5100, 12.428571428571429, 'upper'], [6100, 9.234789227166276, 'mean'], [6100, 6.5, 'lower'], [6100, 12.214285714285714, 'upper'], [7100, 9.217414486921529, 'mean'], [7100, 6.428571428571429, 'lower'], [7100, 12.357142857142858, 'upper'], [8100, 9.223703703703704, 'mean'], [8100, 6.428571428571429, 'lower'], [8100, 12.357142857142858, 'upper'], [9100, 9.205675039246469, 'mean'], [9100, 6.428571428571429, 'lower'], [9100, 12.357142857142858, 'upper'], [10100, 9.216817538896747, 'mean'], [10100, 6.5, 'lower'], [10100, 12.357142857142858, 'upper'], [11100, 9.21506435006435, 'mean'], [11100, 6.428571428571429, 'lower'], [11100, 12.285714285714286, 'upper'], [12100, 9.213866587957497, 'mean'], [12100, 6.5, 'lower'], [12100, 12.285714285714286, 'upper'], [13100, 9.21509814612868, 'mean'], [13100, 6.357142857142857, 'lower'], [13100, 12.357142857142858, 'upper'], [14100, 9.229052684903749, 'mean'], [14100, 6.428571428571429, 'lower'], [14100, 12.428571428571429, 'upper'], [15100, 9.2080605487228, 'mean'], [15100, 6.428571428571429, 'lower'], [15100, 12.285714285714286, 'upper'], [16100, 9.214649511978704, 'mean'], [16100, 6.428571428571429, 'lower'], [16100, 12.357142857142858, 'upper'], [17100, 9.215108604845447, 'mean'], [17100, 6.428571428571429, 'lower'], [17100, 12.357142857142858, 'upper'], [18100, 9.206223362273086, 'mean'], [18100, 6.428571428571429, 'lower'], [18100, 12.428571428571429, 'upper'], [19100, 9.224850411368736, 'mean'], [19100, 6.428571428571429, 'lower'], [19100, 12.357142857142858, 'upper'], [20100, 9.213123667377399, 'mean'], [20100, 6.5, 'lower'], [20100, 12.357142857142858, 'upper'], [21100, 9.225528097494923, 'mean'], [21100, 6.428571428571429, 'lower'], [21100, 12.285714285714286, 'upper'], [22100, 9.228193277310924, 'mean'], [22100, 6.428571428571429, 'lower'], [22100, 12.357142857142858, 'upper'], [23100, 9.218453927025356, 'mean'], [23100, 6.428571428571429, 'lower'], [23100, 12.357142857142858, 'upper'], [24100, 9.200177830468286, 'mean'], [24100, 6.428571428571429, 'lower'], [24100, 12.357142857142858, 'upper'], [25100, 9.227643710870803, 'mean'], [25100, 6.428571428571429, 'lower'], [25100, 12.428571428571429, 'upper'], [26100, 9.216584564860426, 'mean'], [26100, 6.462500000000002, 'lower'], [26100, 12.357142857142858, 'upper'], [27100, 9.207171850289932, 'mean'], [27100, 6.428571428571429, 'lower'], [27100, 12.428571428571429, 'upper'], [28100, 9.22522623284189, 'mean'], [28100, 6.5, 'lower'], [28100, 12.357142857142858, 'upper'], [29100, 9.217005400098184, 'mean'], [29100, 6.428571428571429, 'lower'], [29100, 12.357142857142858, 'upper'], [30100, 9.201841480778358, 'mean'], [30100, 6.428571428571429, 'lower'], [30100, 12.357142857142858, 'upper'], [31100, 9.210473128158016, 'mean'], [31100, 6.428571428571429, 'lower'], [31100, 12.357142857142858, 'upper'], [32100, 9.206622162883844, 'mean'], [32100, 6.428571428571429, 'lower'], [32100, 12.357142857142858, 'upper'], [33100, 9.206864479930946, 'mean'], [33100, 6.428571428571429, 'lower'], [33100, 12.357142857142858, 'upper'], [34100, 9.201011730205279, 'mean'], [34100, 6.428571428571429, 'lower'], [34100, 12.357142857142858, 'upper'], [35100, 9.21030118030118, 'mean'], [35100, 6.5, 'lower'], [35100, 12.357142857142858, 'upper'], [36100, 9.215937870993272, 'mean'], [36100, 6.428571428571429, 'lower'], [36100, 12.357142857142858, 'upper'], [37100, 9.205781671159029, 'mean'], [37100, 6.428571428571429, 'lower'], [37100, 12.428571428571429, 'upper'], [38100, 9.228027746531684, 'mean'], [38100, 6.5, 'lower'], [38100, 12.357142857142858, 'upper'], [39100, 9.209905005480453, 'mean'], [39100, 6.428571428571429, 'lower'], [39100, 12.357142857142858, 'upper'], [40100, 9.215758817242607, 'mean'], [40100, 6.428571428571429, 'lower'], [40100, 12.357142857142858, 'upper'], [41100, 9.216863051790058, 'mean'], [41100, 6.428571428571429, 'lower'], [41100, 12.357142857142858, 'upper'], [42100, 9.211021377672209, 'mean'], [42100, 6.428571428571429, 'lower'], [42100, 12.357142857142858, 'upper'], [43100, 9.219965197215778, 'mean'], [43100, 6.5, 'lower'], [43100, 12.357142857142858, 'upper'], [44100, 9.216713637836087, 'mean'], [44100, 6.428571428571429, 'lower'], [44100, 12.357142857142858, 'upper'], [45100, 9.220286664554957, 'mean'], [45100, 6.428571428571429, 'lower'], [45100, 12.357142857142858, 'upper'], [46100, 9.22314843507902, 'mean'], [46100, 6.428571428571429, 'lower'], [46100, 12.357142857142858, 'upper'], [47100, 9.222995147103427, 'mean'], [47100, 6.428571428571429, 'lower'], [47100, 12.357142857142858, 'upper'], [48100, 9.205791505791506, 'mean'], [48100, 6.428571428571429, 'lower'], [48100, 12.357142857142858, 'upper'], [49100, 9.212881873727088, 'mean'], [49100, 6.428571428571429, 'lower'], [49100, 12.357142857142858, 'upper']]\n"
          ]
        },
        {
          "output_type": "stream",
          "name": "stderr",
          "text": [
            "/usr/local/lib/python3.7/dist-packages/seaborn/_decorators.py:43: FutureWarning: Pass the following variables as keyword args: x, y. From version 0.12, the only valid positional argument will be `data`, and passing other arguments without an explicit keyword will result in an error or misinterpretation.\n",
            "  FutureWarning\n"
          ]
        },
        {
          "output_type": "execute_result",
          "data": {
            "text/plain": [
              "(0.0, 50000.0)"
            ]
          },
          "metadata": {},
          "execution_count": 4
        },
        {
          "output_type": "display_data",
          "data": {
            "image/png": "[encoded data removed]",
            "text/plain": [
              "<Figure size 425.125x360 with 1 Axes>"
            ]
          },
          "metadata": {
            "needs_background": "light"
          }
        }
      ]
    },
    {
      "cell_type": "code",
      "source": [
        "df_boot"
      ],
      "metadata": {
        "colab": {
          "base_uri": "https://localhost:8080/",
          "height": 424
        },
        "id": "qLdhLhNAN6j6",
        "outputId": "4639ce71-c6bb-4122-b766-2904e3037abf"
      },
      "execution_count": 5,
      "outputs": [
        {
          "output_type": "execute_result",
          "data": {
            "text/html": [
              "\n",
              "  <div id=\"df-c4f280b2-0ff2-4e22-8eaa-bc21b0619403\">\n",
              "    <div class=\"colab-df-container\">\n",
              "      <div>\n",
              "<style scoped>\n",
              "    .dataframe tbody tr th:only-of-type {\n",
              "        vertical-align: middle;\n",
              "    }\n",
              "\n",
              "    .dataframe tbody tr th {\n",
              "        vertical-align: top;\n",
              "    }\n",
              "\n",
              "    .dataframe thead th {\n",
              "        text-align: right;\n",
              "    }\n",
              "</style>\n",
              "<table border=\"1\" class=\"dataframe\">\n",
              "  <thead>\n",
              "    <tr style=\"text-align: right;\">\n",
              "      <th></th>\n",
              "      <th>Bootstrap Iterations</th>\n",
              "      <th>Mean</th>\n",
              "      <th>Value</th>\n",
              "    </tr>\n",
              "  </thead>\n",
              "  <tbody>\n",
              "    <tr>\n",
              "      <th>0</th>\n",
              "      <td>100</td>\n",
              "      <td>9.107857</td>\n",
              "      <td>mean</td>\n",
              "    </tr>\n",
              "    <tr>\n",
              "      <th>1</th>\n",
              "      <td>100</td>\n",
              "      <td>6.425000</td>\n",
              "      <td>lower</td>\n",
              "    </tr>\n",
              "    <tr>\n",
              "      <th>2</th>\n",
              "      <td>100</td>\n",
              "      <td>11.650000</td>\n",
              "      <td>upper</td>\n",
              "    </tr>\n",
              "    <tr>\n",
              "      <th>3</th>\n",
              "      <td>1100</td>\n",
              "      <td>9.262078</td>\n",
              "      <td>mean</td>\n",
              "    </tr>\n",
              "    <tr>\n",
              "      <th>4</th>\n",
              "      <td>1100</td>\n",
              "      <td>6.500000</td>\n",
              "      <td>lower</td>\n",
              "    </tr>\n",
              "    <tr>\n",
              "      <th>...</th>\n",
              "      <td>...</td>\n",
              "      <td>...</td>\n",
              "      <td>...</td>\n",
              "    </tr>\n",
              "    <tr>\n",
              "      <th>145</th>\n",
              "      <td>48100</td>\n",
              "      <td>6.428571</td>\n",
              "      <td>lower</td>\n",
              "    </tr>\n",
              "    <tr>\n",
              "      <th>146</th>\n",
              "      <td>48100</td>\n",
              "      <td>12.357143</td>\n",
              "      <td>upper</td>\n",
              "    </tr>\n",
              "    <tr>\n",
              "      <th>147</th>\n",
              "      <td>49100</td>\n",
              "      <td>9.212882</td>\n",
              "      <td>mean</td>\n",
              "    </tr>\n",
              "    <tr>\n",
              "      <th>148</th>\n",
              "      <td>49100</td>\n",
              "      <td>6.428571</td>\n",
              "      <td>lower</td>\n",
              "    </tr>\n",
              "    <tr>\n",
              "      <th>149</th>\n",
              "      <td>49100</td>\n",
              "      <td>12.357143</td>\n",
              "      <td>upper</td>\n",
              "    </tr>\n",
              "  </tbody>\n",
              "</table>\n",
              "<p>150 rows × 3 columns</p>\n",
              "</div>\n",
              "      <button class=\"colab-df-convert\" onclick=\"convertToInteractive('df-c4f280b2-0ff2-4e22-8eaa-bc21b0619403')\"\n",
              "              title=\"Convert this dataframe to an interactive table.\"\n",
              "              style=\"display:none;\">\n",
              "        \n",
              "  <svg xmlns=\"http://www.w3.org/2000/svg\" height=\"24px\"viewBox=\"0 0 24 24\"\n",
              "       width=\"24px\">\n",
              "    <path d=\"M0 0h24v24H0V0z\" fill=\"none\"/>\n",
              "    <path d=\"M18.56 5.44l.94 2.06.94-2.06 2.06-.94-2.06-.94-.94-2.06-.94 2.06-2.06.94zm-11 1L8.5 8.5l.94-2.06 2.06-.94-2.06-.94L8.5 2.5l-.94 2.06-2.06.94zm10 10l.94 2.06.94-2.06 2.06-.94-2.06-.94-.94-2.06-.94 2.06-2.06.94z\"/><path d=\"M17.41 7.96l-1.37-1.37c-.4-.4-.92-.59-1.43-.59-.52 0-1.04.2-1.43.59L10.3 9.45l-7.72 7.72c-.78.78-.78 2.05 0 2.83L4 21.41c.39.39.9.59 1.41.59.51 0 1.02-.2 1.41-.59l7.78-7.78 2.81-2.81c.8-.78.8-2.07 0-2.86zM5.41 20L4 18.59l7.72-7.72 1.47 1.35L5.41 20z\"/>\n",
              "  </svg>\n",
              "      </button>\n",
              "      \n",
              "  <style>\n",
              "    .colab-df-container {\n",
              "      display:flex;\n",
              "      flex-wrap:wrap;\n",
              "      gap: 12px;\n",
              "    }\n",
              "\n",
              "    .colab-df-convert {\n",
              "      background-color: #E8F0FE;\n",
              "      border: none;\n",
              "      border-radius: 50%;\n",
              "      cursor: pointer;\n",
              "      display: none;\n",
              "      fill: #1967D2;\n",
              "      height: 32px;\n",
              "      padding: 0 0 0 0;\n",
              "      width: 32px;\n",
              "    }\n",
              "\n",
              "    .colab-df-convert:hover {\n",
              "      background-color: #E2EBFA;\n",
              "      box-shadow: 0px 1px 2px rgba(60, 64, 67, 0.3), 0px 1px 3px 1px rgba(60, 64, 67, 0.15);\n",
              "      fill: #174EA6;\n",
              "    }\n",
              "\n",
              "    [theme=dark] .colab-df-convert {\n",
              "      background-color: #3B4455;\n",
              "      fill: #D2E3FC;\n",
              "    }\n",
              "\n",
              "    [theme=dark] .colab-df-convert:hover {\n",
              "      background-color: #434B5C;\n",
              "      box-shadow: 0px 1px 3px 1px rgba(0, 0, 0, 0.15);\n",
              "      filter: drop-shadow(0px 1px 2px rgba(0, 0, 0, 0.3));\n",
              "      fill: #FFFFFF;\n",
              "    }\n",
              "  </style>\n",
              "\n",
              "      <script>\n",
              "        const buttonEl =\n",
              "          document.querySelector('#df-c4f280b2-0ff2-4e22-8eaa-bc21b0619403 button.colab-df-convert');\n",
              "        buttonEl.style.display =\n",
              "          google.colab.kernel.accessAllowed ? 'block' : 'none';\n",
              "\n",
              "        async function convertToInteractive(key) {\n",
              "          const element = document.querySelector('#df-c4f280b2-0ff2-4e22-8eaa-bc21b0619403');\n",
              "          const dataTable =\n",
              "            await google.colab.kernel.invokeFunction('convertToInteractive',\n",
              "                                                     [key], {});\n",
              "          if (!dataTable) return;\n",
              "\n",
              "          const docLinkHtml = 'Like what you see? Visit the ' +\n",
              "            '<a target=\"_blank\" href=https://colab.research.google.com/notebooks/data_table.ipynb>data table notebook</a>'\n",
              "            + ' to learn more about interactive tables.';\n",
              "          element.innerHTML = '';\n",
              "          dataTable['output_type'] = 'display_data';\n",
              "          await google.colab.output.renderOutput(dataTable, element);\n",
              "          const docLink = document.createElement('div');\n",
              "          docLink.innerHTML = docLinkHtml;\n",
              "          element.appendChild(docLink);\n",
              "        }\n",
              "      </script>\n",
              "    </div>\n",
              "  </div>\n",
              "  "
            ],
            "text/plain": [
              "     Bootstrap Iterations       Mean  Value\n",
              "0                     100   9.107857   mean\n",
              "1                     100   6.425000  lower\n",
              "2                     100  11.650000  upper\n",
              "3                    1100   9.262078   mean\n",
              "4                    1100   6.500000  lower\n",
              "..                    ...        ...    ...\n",
              "145                 48100   6.428571  lower\n",
              "146                 48100  12.357143  upper\n",
              "147                 49100   9.212882   mean\n",
              "148                 49100   6.428571  lower\n",
              "149                 49100  12.357143  upper\n",
              "\n",
              "[150 rows x 3 columns]"
            ]
          },
          "metadata": {},
          "execution_count": 5
        }
      ]
    },
    {
      "cell_type": "markdown",
      "metadata": {
        "id": "MjtP4e2_YC4V"
      },
      "source": [
        "\n",
        "Now, modify the bootstrap function you created above so that you can pass your desired confidence interval as a parameter.\n",
        "\n"
      ]
    },
    {
      "cell_type": "code",
      "metadata": {
        "id": "3K9j0FuGYhHs"
      },
      "source": [
        "def bootstrap_mean_ci(x, sample_size, n_bootstraps, ci):\n",
        "\t# <---INSERT YOUR CODE HERE--->\n",
        "\tsamples1=np.random.choice(x, size=(n_bootstraps,sample_size)) #it gives me outputs = sample size and this process repeats n_bootstrap times \n",
        "\tdata_mean= np.mean(samples1)\n",
        "\tbootstrap_mean=np.mean(samples1,axis=1)\n",
        "\t#bootstrap_mean=np.sort(bootstrap_mean) # percentile sorts auto\n",
        "\tupper_percentile = ((100-ci)/2)+ci\n",
        "\tlower_percentile = ((100-ci)/2) \n",
        "\tupper = np.percentile(bootstrap_mean, upper_percentile)\n",
        "\tlower = np.percentile(bootstrap_mean, lower_percentile)\n",
        "\treturn data_mean, lower, upper"
      ],
      "execution_count": 6,
      "outputs": []
    },
    {
      "cell_type": "code",
      "metadata": {
        "id": "uDnjq08GYl-C",
        "colab": {
          "base_uri": "https://localhost:8080/",
          "height": 441
        },
        "outputId": "c328df4d-897d-4b93-d771-4a4f8fddf22f"
      },
      "source": [
        "boots = []\n",
        "for i in range(100, 50000, 1000):\n",
        "    boot = bootstrap_mean_ci(data, data.shape[0], i, 80)\n",
        "    boots.append([i, boot[0], \"mean\"])\n",
        "    boots.append([i, boot[1], \"lower\"])\n",
        "    boots.append([i, boot[2], \"upper\"])\n",
        "\n",
        "df_boot = pd.DataFrame(boots, columns=['Boostrap Iterations', 'Mean', \"Value\"]) # creating a dataframe using three attribute of each element of the list \n",
        "sns_plot = sns.lmplot(df_boot.columns[0], df_boot.columns[1], data=df_boot, fit_reg=False, hue=\"Value\")\n",
        "\n",
        "sns_plot.axes[0, 0].set_ylim(0,)\n",
        "sns_plot.axes[0, 0].set_xlim(0, 50000)\n",
        "\n",
        "#sns_plot.savefig(\"bootstrap_confidence_80.pdf\", bbox_inches='tight')\n"
      ],
      "execution_count": 7,
      "outputs": [
        {
          "output_type": "stream",
          "name": "stderr",
          "text": [
            "/usr/local/lib/python3.7/dist-packages/seaborn/_decorators.py:43: FutureWarning: Pass the following variables as keyword args: x, y. From version 0.12, the only valid positional argument will be `data`, and passing other arguments without an explicit keyword will result in an error or misinterpretation.\n",
            "  FutureWarning\n"
          ]
        },
        {
          "output_type": "execute_result",
          "data": {
            "text/plain": [
              "(0.0, 50000.0)"
            ]
          },
          "metadata": {},
          "execution_count": 7
        },
        {
          "output_type": "display_data",
          "data": {
            "image/png": "[encoded data removed]",
            "text/plain": [
              "<Figure size 425.125x360 with 1 Axes>"
            ]
          },
          "metadata": {
            "needs_background": "light"
          }
        }
      ]
    },
    {
      "cell_type": "markdown",
      "metadata": {
        "id": "qjNgXW6wdd7r"
      },
      "source": [
        "# Vehicles dataset\n",
        "\n",
        "Now let's work on a different dataset, which is stored in the vehicles.csv file.\n"
      ]
    },
    {
      "cell_type": "code",
      "metadata": {
        "id": "avWv4ipFdpka",
        "colab": {
          "base_uri": "https://localhost:8080/",
          "height": 828
        },
        "outputId": "9da164e2-e70a-431b-d2e4-951e752e2edd"
      },
      "source": [
        "# Load and visualise the vehicles dataset\n",
        "# To load the dataset: https://neptune.ai/blog/google-colab-dealing-with-files (check section \"Load individual files directly from GitHub\")\n",
        "\n",
        "\n",
        "# Note that the current and new fleets are in different columns and have different lengths, so bear this in mind when you're plotting.\n",
        "# You can create separate scatterplots for the two fleets, as you would with the histograms, \n",
        "# or plot them both in one plot (but not one against the other).\n",
        "# <---INSERT YOUR CODE HERE--->\n",
        "df1=pd.read_csv('https://raw.githubusercontent.com/albanda/CE888/master/lab2%20-%20bootstrap/vehicles.csv') # loading a vehicle data set \n",
        "\n",
        "df1['id'] = np.arange(len(df1)) #adding a column to vehichle data set of len(df1) means according to lenght of each unequal column \n",
        "\n",
        "sns.lmplot('id', 'Current fleet', data=df1, fit_reg=False) #plotting Current fleet against id \n",
        "sns.lmplot('id', 'New Fleet', data=df1, fit_reg=False)\n",
        "\n",
        "#data1=df1['Current fleet'].values\n",
        "#x = np.arange(250) # creates a array containing numbers from 0 to 249\n",
        "#plt.scatter(np.arange(250),data1 ) # way of plotting using matplotlib.pyplot \n",
        "#plt.xlabel('ID')\n",
        "#plt.ylabel('Current fleet')\n",
        "#data2=df1['New Fleet'].values\n",
        "# Note: you can add more cells as needed to organise your code and your plots\n"
      ],
      "execution_count": 13,
      "outputs": [
        {
          "output_type": "stream",
          "name": "stderr",
          "text": [
            "/usr/local/lib/python3.7/dist-packages/seaborn/_decorators.py:43: FutureWarning: Pass the following variables as keyword args: x, y. From version 0.12, the only valid positional argument will be `data`, and passing other arguments without an explicit keyword will result in an error or misinterpretation.\n",
            "  FutureWarning\n",
            "/usr/local/lib/python3.7/dist-packages/seaborn/_decorators.py:43: FutureWarning: Pass the following variables as keyword args: x, y. From version 0.12, the only valid positional argument will be `data`, and passing other arguments without an explicit keyword will result in an error or misinterpretation.\n",
            "  FutureWarning\n"
          ]
        },
        {
          "output_type": "execute_result",
          "data": {
            "text/plain": [
              "<seaborn.axisgrid.FacetGrid at 0x7fe85c776450>"
            ]
          },
          "metadata": {},
          "execution_count": 13
        },
        {
          "output_type": "display_data",
          "data": {
            "image/png": "[encoded data removed]",
            "text/plain": [
              "<Figure size 360x360 with 1 Axes>"
            ]
          },
          "metadata": {
            "needs_background": "light"
          }
        },
        {
          "output_type": "display_data",
          "data": {
            "image/png": "[encoded data removed]",
            "text/plain": [
              "<Figure size 360x360 with 1 Axes>"
            ]
          },
          "metadata": {
            "needs_background": "light"
          }
        }
      ]
    },
    {
      "cell_type": "code",
      "source": [
        "\n",
        "#df1.tail() # prints last five values of data"
      ],
      "metadata": {
        "id": "C9dNSd6JRmly"
      },
      "execution_count": 14,
      "outputs": []
    },
    {
      "cell_type": "code",
      "source": [
        "#df1.head() # prints first five values of data"
      ],
      "metadata": {
        "id": "s29_wER-LAae"
      },
      "execution_count": 15,
      "outputs": []
    },
    {
      "cell_type": "code",
      "source": [
        "#df1"
      ],
      "metadata": {
        "id": "ie1uQ-5FNXO4"
      },
      "execution_count": 16,
      "outputs": []
    },
    {
      "cell_type": "markdown",
      "metadata": {
        "id": "B5d0tXDpIEj8"
      },
      "source": [
        "## Compare the two fleets\n",
        "\n",
        "The business analysts come up a comparison algorithm that requires the upper and lower bounds for the mean in order to say which fleet is better.\n",
        "1. Calculate the mean of both samples.\n",
        "2. Using the bootstrap function that you created:\n",
        "    - Construct the 95% CI of the mean of the current fleet.\n",
        "    - Construct the 95% CI of the mean of the new fleet.\n",
        "    - Are they comparable? (i.e., is one better than the other?) -- you can do this with a permutation test (check the lecture notes!)"
      ]
    },
    {
      "cell_type": "code",
      "metadata": {
        "id": "po4mp6zRHC0m",
        "colab": {
          "base_uri": "https://localhost:8080/"
        },
        "outputId": "b8fb586b-5e18-4adb-ed0e-82022384cbc0"
      },
      "source": [
        "# <---INSERT YOUR CODE HERE--->\n",
        "\n",
        "mean_current_fleet=df1['Current fleet'].mean()# mean of current fleet \n",
        "\n",
        "mean_New_Fleet=df1['New Fleet'].mean()# mean of new fleet \n",
        "\n",
        "print (mean_current_fleet)\n",
        "\n",
        "print (mean_New_Fleet)"
      ],
      "execution_count": 33,
      "outputs": [
        {
          "output_type": "stream",
          "name": "stdout",
          "text": [
            "20.14457831325301\n",
            "30.481012658227847\n"
          ]
        }
      ]
    },
    {
      "cell_type": "code",
      "metadata": {
        "id": "MkxvDZG4HC0n"
      },
      "source": [
        "# Create your own function for a permutation test here (you will need it for the lab quiz!):\n",
        "def permut_test(sample1, sample2, n_permutations):\n",
        "    \"\"\"\n",
        "    sample1: 1D array\n",
        "    sample2: 1D array (note that the size of the two arrays can be different)\n",
        "    n_permutations: number of permutations to calculate the p-value\n",
        "    \"\"\"\n",
        "    return pvalue"
      ],
      "execution_count": null,
      "outputs": []
    }
  ]
}